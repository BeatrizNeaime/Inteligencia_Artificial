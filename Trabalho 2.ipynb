{
  "cells": [
    {
      "cell_type": "markdown",
      "metadata": {
        "id": "4sjOLKxdu8w8"
      },
      "source": [
        "# Inteligência Artificial - Trabalho Prático 02\n",
        "\n",
        "Aluna: Beatriz do Prado Neaime | \n",
        "R.A.: 201911020035"
      ]
    },
    {
      "cell_type": "markdown",
      "metadata": {
        "id": "b6UhLWzovKHc"
      },
      "source": [
        "#### Importante!\n",
        "\n",
        "Caso seja necessário fazer download da base de dados, visite: \n",
        "[GitHub](https://github.com/BeatrizNeaime/Inteligencia_Artificial)"
      ]
    },
    {
      "cell_type": "markdown",
      "metadata": {
        "id": "2lh-zJBFNrlp"
      },
      "source": [
        "# Importação e leitura da base de dados"
      ]
    },
    {
      "cell_type": "code",
      "execution_count": 1,
      "metadata": {
        "colab": {
          "base_uri": "https://localhost:8080/",
          "height": 270
        },
        "id": "sUgN8Xqwkxua",
        "outputId": "e31806ad-cfe7-42c8-cc3f-bd7f89d2dbba"
      },
      "outputs": [
        {
          "data": {
            "text/html": [
              "<div>\n",
              "<style scoped>\n",
              "    .dataframe tbody tr th:only-of-type {\n",
              "        vertical-align: middle;\n",
              "    }\n",
              "\n",
              "    .dataframe tbody tr th {\n",
              "        vertical-align: top;\n",
              "    }\n",
              "\n",
              "    .dataframe thead th {\n",
              "        text-align: right;\n",
              "    }\n",
              "</style>\n",
              "<table border=\"1\" class=\"dataframe\">\n",
              "  <thead>\n",
              "    <tr style=\"text-align: right;\">\n",
              "      <th></th>\n",
              "      <th>classe</th>\n",
              "      <th>linfaticos</th>\n",
              "      <th>bloco_affere</th>\n",
              "      <th>bloco_linf_c</th>\n",
              "      <th>bloco_linf_s</th>\n",
              "      <th>bypass</th>\n",
              "      <th>extravasados</th>\n",
              "      <th>regeneracao</th>\n",
              "      <th>absorcao_precoce</th>\n",
              "      <th>linfonodos_reduzido</th>\n",
              "      <th>linfonodos_aumentados</th>\n",
              "      <th>mudancas_linfonodos</th>\n",
              "      <th>defeitos_nodulos</th>\n",
              "      <th>mudancas_nodulos</th>\n",
              "      <th>mudancas_estruturas</th>\n",
              "      <th>formas_especiais</th>\n",
              "      <th>deslocamento</th>\n",
              "      <th>exclusao_nodulos</th>\n",
              "      <th>qtd_nodulos</th>\n",
              "    </tr>\n",
              "  </thead>\n",
              "  <tbody>\n",
              "    <tr>\n",
              "      <th>0</th>\n",
              "      <td>3</td>\n",
              "      <td>4</td>\n",
              "      <td>2</td>\n",
              "      <td>1</td>\n",
              "      <td>1</td>\n",
              "      <td>1</td>\n",
              "      <td>1</td>\n",
              "      <td>1</td>\n",
              "      <td>2</td>\n",
              "      <td>1</td>\n",
              "      <td>2</td>\n",
              "      <td>2</td>\n",
              "      <td>2</td>\n",
              "      <td>4</td>\n",
              "      <td>8</td>\n",
              "      <td>1</td>\n",
              "      <td>1</td>\n",
              "      <td>2</td>\n",
              "      <td>2</td>\n",
              "    </tr>\n",
              "    <tr>\n",
              "      <th>1</th>\n",
              "      <td>2</td>\n",
              "      <td>3</td>\n",
              "      <td>2</td>\n",
              "      <td>1</td>\n",
              "      <td>1</td>\n",
              "      <td>2</td>\n",
              "      <td>2</td>\n",
              "      <td>1</td>\n",
              "      <td>2</td>\n",
              "      <td>1</td>\n",
              "      <td>3</td>\n",
              "      <td>3</td>\n",
              "      <td>2</td>\n",
              "      <td>3</td>\n",
              "      <td>4</td>\n",
              "      <td>2</td>\n",
              "      <td>2</td>\n",
              "      <td>2</td>\n",
              "      <td>2</td>\n",
              "    </tr>\n",
              "    <tr>\n",
              "      <th>2</th>\n",
              "      <td>3</td>\n",
              "      <td>3</td>\n",
              "      <td>2</td>\n",
              "      <td>2</td>\n",
              "      <td>2</td>\n",
              "      <td>2</td>\n",
              "      <td>2</td>\n",
              "      <td>2</td>\n",
              "      <td>2</td>\n",
              "      <td>1</td>\n",
              "      <td>4</td>\n",
              "      <td>3</td>\n",
              "      <td>3</td>\n",
              "      <td>4</td>\n",
              "      <td>8</td>\n",
              "      <td>3</td>\n",
              "      <td>2</td>\n",
              "      <td>2</td>\n",
              "      <td>7</td>\n",
              "    </tr>\n",
              "    <tr>\n",
              "      <th>3</th>\n",
              "      <td>3</td>\n",
              "      <td>3</td>\n",
              "      <td>1</td>\n",
              "      <td>1</td>\n",
              "      <td>1</td>\n",
              "      <td>1</td>\n",
              "      <td>2</td>\n",
              "      <td>1</td>\n",
              "      <td>2</td>\n",
              "      <td>1</td>\n",
              "      <td>3</td>\n",
              "      <td>3</td>\n",
              "      <td>4</td>\n",
              "      <td>4</td>\n",
              "      <td>4</td>\n",
              "      <td>3</td>\n",
              "      <td>1</td>\n",
              "      <td>2</td>\n",
              "      <td>6</td>\n",
              "    </tr>\n",
              "    <tr>\n",
              "      <th>4</th>\n",
              "      <td>2</td>\n",
              "      <td>3</td>\n",
              "      <td>1</td>\n",
              "      <td>1</td>\n",
              "      <td>1</td>\n",
              "      <td>1</td>\n",
              "      <td>1</td>\n",
              "      <td>1</td>\n",
              "      <td>1</td>\n",
              "      <td>1</td>\n",
              "      <td>2</td>\n",
              "      <td>2</td>\n",
              "      <td>4</td>\n",
              "      <td>3</td>\n",
              "      <td>5</td>\n",
              "      <td>1</td>\n",
              "      <td>2</td>\n",
              "      <td>2</td>\n",
              "      <td>1</td>\n",
              "    </tr>\n",
              "  </tbody>\n",
              "</table>\n",
              "</div>"
            ],
            "text/plain": [
              "   classe  linfaticos  bloco_affere  bloco_linf_c  bloco_linf_s  bypass  \\\n",
              "0       3           4             2             1             1       1   \n",
              "1       2           3             2             1             1       2   \n",
              "2       3           3             2             2             2       2   \n",
              "3       3           3             1             1             1       1   \n",
              "4       2           3             1             1             1       1   \n",
              "\n",
              "   extravasados  regeneracao  absorcao_precoce  linfonodos_reduzido  \\\n",
              "0             1            1                 2                    1   \n",
              "1             2            1                 2                    1   \n",
              "2             2            2                 2                    1   \n",
              "3             2            1                 2                    1   \n",
              "4             1            1                 1                    1   \n",
              "\n",
              "   linfonodos_aumentados  mudancas_linfonodos  defeitos_nodulos  \\\n",
              "0                      2                    2                 2   \n",
              "1                      3                    3                 2   \n",
              "2                      4                    3                 3   \n",
              "3                      3                    3                 4   \n",
              "4                      2                    2                 4   \n",
              "\n",
              "   mudancas_nodulos  mudancas_estruturas  formas_especiais  deslocamento  \\\n",
              "0                 4                    8                 1             1   \n",
              "1                 3                    4                 2             2   \n",
              "2                 4                    8                 3             2   \n",
              "3                 4                    4                 3             1   \n",
              "4                 3                    5                 1             2   \n",
              "\n",
              "   exclusao_nodulos  qtd_nodulos  \n",
              "0                 2            2  \n",
              "1                 2            2  \n",
              "2                 2            7  \n",
              "3                 2            6  \n",
              "4                 2            1  "
            ]
          },
          "execution_count": 1,
          "metadata": {},
          "output_type": "execute_result"
        }
      ],
      "source": [
        "import pandas as pd\n",
        "data = pd.read_csv(\"database.csv\")\n",
        "data.head()"
      ]
    },
    {
      "cell_type": "markdown",
      "metadata": {
        "id": "YhupkDAqOOzv"
      },
      "source": [
        "# Verificação dos dados"
      ]
    },
    {
      "cell_type": "code",
      "execution_count": 2,
      "metadata": {
        "colab": {
          "base_uri": "https://localhost:8080/"
        },
        "id": "8l2aK1nIOUdB",
        "outputId": "1288a77f-0fd9-4541-b52c-8ccdd5bb407d"
      },
      "outputs": [
        {
          "data": {
            "text/html": [
              "<div>\n",
              "<style scoped>\n",
              "    .dataframe tbody tr th:only-of-type {\n",
              "        vertical-align: middle;\n",
              "    }\n",
              "\n",
              "    .dataframe tbody tr th {\n",
              "        vertical-align: top;\n",
              "    }\n",
              "\n",
              "    .dataframe thead th {\n",
              "        text-align: right;\n",
              "    }\n",
              "</style>\n",
              "<table border=\"1\" class=\"dataframe\">\n",
              "  <thead>\n",
              "    <tr style=\"text-align: right;\">\n",
              "      <th></th>\n",
              "      <th>classe</th>\n",
              "      <th>linfaticos</th>\n",
              "      <th>bloco_affere</th>\n",
              "      <th>bloco_linf_c</th>\n",
              "      <th>bloco_linf_s</th>\n",
              "      <th>bypass</th>\n",
              "      <th>extravasados</th>\n",
              "      <th>regeneracao</th>\n",
              "      <th>absorcao_precoce</th>\n",
              "      <th>linfonodos_reduzido</th>\n",
              "      <th>linfonodos_aumentados</th>\n",
              "      <th>mudancas_linfonodos</th>\n",
              "      <th>defeitos_nodulos</th>\n",
              "      <th>mudancas_nodulos</th>\n",
              "      <th>mudancas_estruturas</th>\n",
              "      <th>formas_especiais</th>\n",
              "      <th>deslocamento</th>\n",
              "      <th>exclusao_nodulos</th>\n",
              "      <th>qtd_nodulos</th>\n",
              "    </tr>\n",
              "  </thead>\n",
              "  <tbody>\n",
              "    <tr>\n",
              "      <th>count</th>\n",
              "      <td>148.000000</td>\n",
              "      <td>148.000000</td>\n",
              "      <td>148.000000</td>\n",
              "      <td>148.000000</td>\n",
              "      <td>148.000000</td>\n",
              "      <td>148.000000</td>\n",
              "      <td>148.000000</td>\n",
              "      <td>148.000000</td>\n",
              "      <td>148.000000</td>\n",
              "      <td>148.000000</td>\n",
              "      <td>148.000000</td>\n",
              "      <td>148.000000</td>\n",
              "      <td>148.000000</td>\n",
              "      <td>148.000000</td>\n",
              "      <td>148.000000</td>\n",
              "      <td>148.000000</td>\n",
              "      <td>148.000000</td>\n",
              "      <td>148.000000</td>\n",
              "      <td>148.000000</td>\n",
              "    </tr>\n",
              "    <tr>\n",
              "      <th>mean</th>\n",
              "      <td>2.452703</td>\n",
              "      <td>2.743243</td>\n",
              "      <td>1.554054</td>\n",
              "      <td>1.175676</td>\n",
              "      <td>1.047297</td>\n",
              "      <td>1.243243</td>\n",
              "      <td>1.506757</td>\n",
              "      <td>1.067568</td>\n",
              "      <td>1.702703</td>\n",
              "      <td>1.060811</td>\n",
              "      <td>2.472973</td>\n",
              "      <td>2.398649</td>\n",
              "      <td>2.966216</td>\n",
              "      <td>2.804054</td>\n",
              "      <td>5.216216</td>\n",
              "      <td>2.331081</td>\n",
              "      <td>1.662162</td>\n",
              "      <td>1.790541</td>\n",
              "      <td>2.601351</td>\n",
              "    </tr>\n",
              "    <tr>\n",
              "      <th>std</th>\n",
              "      <td>0.575396</td>\n",
              "      <td>0.817509</td>\n",
              "      <td>0.498757</td>\n",
              "      <td>0.381836</td>\n",
              "      <td>0.212995</td>\n",
              "      <td>0.430498</td>\n",
              "      <td>0.501652</td>\n",
              "      <td>0.251855</td>\n",
              "      <td>0.458621</td>\n",
              "      <td>0.313557</td>\n",
              "      <td>0.836627</td>\n",
              "      <td>0.568323</td>\n",
              "      <td>0.868305</td>\n",
              "      <td>0.761834</td>\n",
              "      <td>2.171368</td>\n",
              "      <td>0.777126</td>\n",
              "      <td>0.474579</td>\n",
              "      <td>0.408305</td>\n",
              "      <td>1.905023</td>\n",
              "    </tr>\n",
              "    <tr>\n",
              "      <th>min</th>\n",
              "      <td>1.000000</td>\n",
              "      <td>1.000000</td>\n",
              "      <td>1.000000</td>\n",
              "      <td>1.000000</td>\n",
              "      <td>1.000000</td>\n",
              "      <td>1.000000</td>\n",
              "      <td>1.000000</td>\n",
              "      <td>1.000000</td>\n",
              "      <td>1.000000</td>\n",
              "      <td>1.000000</td>\n",
              "      <td>1.000000</td>\n",
              "      <td>1.000000</td>\n",
              "      <td>1.000000</td>\n",
              "      <td>1.000000</td>\n",
              "      <td>1.000000</td>\n",
              "      <td>1.000000</td>\n",
              "      <td>1.000000</td>\n",
              "      <td>1.000000</td>\n",
              "      <td>1.000000</td>\n",
              "    </tr>\n",
              "    <tr>\n",
              "      <th>25%</th>\n",
              "      <td>2.000000</td>\n",
              "      <td>2.000000</td>\n",
              "      <td>1.000000</td>\n",
              "      <td>1.000000</td>\n",
              "      <td>1.000000</td>\n",
              "      <td>1.000000</td>\n",
              "      <td>1.000000</td>\n",
              "      <td>1.000000</td>\n",
              "      <td>1.000000</td>\n",
              "      <td>1.000000</td>\n",
              "      <td>2.000000</td>\n",
              "      <td>2.000000</td>\n",
              "      <td>2.000000</td>\n",
              "      <td>2.000000</td>\n",
              "      <td>4.000000</td>\n",
              "      <td>2.000000</td>\n",
              "      <td>1.000000</td>\n",
              "      <td>2.000000</td>\n",
              "      <td>1.000000</td>\n",
              "    </tr>\n",
              "    <tr>\n",
              "      <th>50%</th>\n",
              "      <td>2.000000</td>\n",
              "      <td>3.000000</td>\n",
              "      <td>2.000000</td>\n",
              "      <td>1.000000</td>\n",
              "      <td>1.000000</td>\n",
              "      <td>1.000000</td>\n",
              "      <td>2.000000</td>\n",
              "      <td>1.000000</td>\n",
              "      <td>2.000000</td>\n",
              "      <td>1.000000</td>\n",
              "      <td>2.000000</td>\n",
              "      <td>2.000000</td>\n",
              "      <td>3.000000</td>\n",
              "      <td>3.000000</td>\n",
              "      <td>5.000000</td>\n",
              "      <td>3.000000</td>\n",
              "      <td>2.000000</td>\n",
              "      <td>2.000000</td>\n",
              "      <td>2.000000</td>\n",
              "    </tr>\n",
              "    <tr>\n",
              "      <th>75%</th>\n",
              "      <td>3.000000</td>\n",
              "      <td>3.000000</td>\n",
              "      <td>2.000000</td>\n",
              "      <td>1.000000</td>\n",
              "      <td>1.000000</td>\n",
              "      <td>1.000000</td>\n",
              "      <td>2.000000</td>\n",
              "      <td>1.000000</td>\n",
              "      <td>2.000000</td>\n",
              "      <td>1.000000</td>\n",
              "      <td>3.000000</td>\n",
              "      <td>3.000000</td>\n",
              "      <td>4.000000</td>\n",
              "      <td>3.000000</td>\n",
              "      <td>8.000000</td>\n",
              "      <td>3.000000</td>\n",
              "      <td>2.000000</td>\n",
              "      <td>2.000000</td>\n",
              "      <td>3.000000</td>\n",
              "    </tr>\n",
              "    <tr>\n",
              "      <th>max</th>\n",
              "      <td>4.000000</td>\n",
              "      <td>4.000000</td>\n",
              "      <td>2.000000</td>\n",
              "      <td>2.000000</td>\n",
              "      <td>2.000000</td>\n",
              "      <td>2.000000</td>\n",
              "      <td>2.000000</td>\n",
              "      <td>2.000000</td>\n",
              "      <td>2.000000</td>\n",
              "      <td>3.000000</td>\n",
              "      <td>4.000000</td>\n",
              "      <td>3.000000</td>\n",
              "      <td>4.000000</td>\n",
              "      <td>4.000000</td>\n",
              "      <td>8.000000</td>\n",
              "      <td>3.000000</td>\n",
              "      <td>2.000000</td>\n",
              "      <td>2.000000</td>\n",
              "      <td>8.000000</td>\n",
              "    </tr>\n",
              "  </tbody>\n",
              "</table>\n",
              "</div>"
            ],
            "text/plain": [
              "           classe  linfaticos  bloco_affere  bloco_linf_c  bloco_linf_s  \\\n",
              "count  148.000000  148.000000    148.000000    148.000000    148.000000   \n",
              "mean     2.452703    2.743243      1.554054      1.175676      1.047297   \n",
              "std      0.575396    0.817509      0.498757      0.381836      0.212995   \n",
              "min      1.000000    1.000000      1.000000      1.000000      1.000000   \n",
              "25%      2.000000    2.000000      1.000000      1.000000      1.000000   \n",
              "50%      2.000000    3.000000      2.000000      1.000000      1.000000   \n",
              "75%      3.000000    3.000000      2.000000      1.000000      1.000000   \n",
              "max      4.000000    4.000000      2.000000      2.000000      2.000000   \n",
              "\n",
              "           bypass  extravasados  regeneracao  absorcao_precoce  \\\n",
              "count  148.000000    148.000000   148.000000        148.000000   \n",
              "mean     1.243243      1.506757     1.067568          1.702703   \n",
              "std      0.430498      0.501652     0.251855          0.458621   \n",
              "min      1.000000      1.000000     1.000000          1.000000   \n",
              "25%      1.000000      1.000000     1.000000          1.000000   \n",
              "50%      1.000000      2.000000     1.000000          2.000000   \n",
              "75%      1.000000      2.000000     1.000000          2.000000   \n",
              "max      2.000000      2.000000     2.000000          2.000000   \n",
              "\n",
              "       linfonodos_reduzido  linfonodos_aumentados  mudancas_linfonodos  \\\n",
              "count           148.000000             148.000000           148.000000   \n",
              "mean              1.060811               2.472973             2.398649   \n",
              "std               0.313557               0.836627             0.568323   \n",
              "min               1.000000               1.000000             1.000000   \n",
              "25%               1.000000               2.000000             2.000000   \n",
              "50%               1.000000               2.000000             2.000000   \n",
              "75%               1.000000               3.000000             3.000000   \n",
              "max               3.000000               4.000000             3.000000   \n",
              "\n",
              "       defeitos_nodulos  mudancas_nodulos  mudancas_estruturas  \\\n",
              "count        148.000000        148.000000           148.000000   \n",
              "mean           2.966216          2.804054             5.216216   \n",
              "std            0.868305          0.761834             2.171368   \n",
              "min            1.000000          1.000000             1.000000   \n",
              "25%            2.000000          2.000000             4.000000   \n",
              "50%            3.000000          3.000000             5.000000   \n",
              "75%            4.000000          3.000000             8.000000   \n",
              "max            4.000000          4.000000             8.000000   \n",
              "\n",
              "       formas_especiais  deslocamento  exclusao_nodulos  qtd_nodulos  \n",
              "count        148.000000    148.000000        148.000000   148.000000  \n",
              "mean           2.331081      1.662162          1.790541     2.601351  \n",
              "std            0.777126      0.474579          0.408305     1.905023  \n",
              "min            1.000000      1.000000          1.000000     1.000000  \n",
              "25%            2.000000      1.000000          2.000000     1.000000  \n",
              "50%            3.000000      2.000000          2.000000     2.000000  \n",
              "75%            3.000000      2.000000          2.000000     3.000000  \n",
              "max            3.000000      2.000000          2.000000     8.000000  "
            ]
          },
          "execution_count": 2,
          "metadata": {},
          "output_type": "execute_result"
        }
      ],
      "source": [
        "data.describe()"
      ]
    },
    {
      "cell_type": "markdown",
      "metadata": {
        "id": "WnYk0-fcOeYi"
      },
      "source": [
        "Após a execução, nota-se que não existem dados ausentes, já que foram contados 148 itens em cada coluna.\n",
        "Nota-se também que foi devolvida uma tabela com dados importantes como:\n",
        " * média aritimética do atributo (mean)\n",
        " * desvio padrão (std)\n",
        " * menor valor (min)\n",
        " * quartis (25%, 50% e 75%)\n",
        " * maior valor (max)"
      ]
    },
    {
      "cell_type": "markdown",
      "metadata": {
        "id": "Aq0llbIoOxuW"
      },
      "source": [
        "# Verificação se a base está ou não balanceada"
      ]
    },
    {
      "cell_type": "code",
      "execution_count": 3,
      "metadata": {
        "colab": {
          "base_uri": "https://localhost:8080/"
        },
        "id": "51H1Li80OxEK",
        "outputId": "e2806f78-128a-4812-e03a-cb28711226c6"
      },
      "outputs": [
        {
          "data": {
            "text/plain": [
              "2    81\n",
              "3    61\n",
              "4     4\n",
              "1     2\n",
              "Name: classe, dtype: int64"
            ]
          },
          "execution_count": 3,
          "metadata": {},
          "output_type": "execute_result"
        }
      ],
      "source": [
        "data[\"classe\"].value_counts()"
      ]
    },
    {
      "cell_type": "markdown",
      "metadata": {
        "id": "CvcgKnJ1PEwr"
      },
      "source": [
        "Nota-se que a base está totalmente desbalanceada. Assim, após conversa com o Professor, foi sugerido a exclusão dos dados classificados como 1 e 4, a fim de facilitar a manipulação da mesma."
      ]
    },
    {
      "cell_type": "markdown",
      "metadata": {
        "id": "VCaIFpNaQokS"
      },
      "source": [
        "# Limpeza dos dados"
      ]
    },
    {
      "cell_type": "markdown",
      "metadata": {
        "id": "tzisYUdsP_b4"
      },
      "source": [
        "Importação das bibliotecas necessárias"
      ]
    },
    {
      "cell_type": "code",
      "execution_count": 5,
      "metadata": {
        "id": "FGeoOzDRPpmH"
      },
      "outputs": [],
      "source": [
        "import matplotlib.pyplot as plt\n",
        "import seaborn as sns\n",
        "import numpy as np"
      ]
    },
    {
      "cell_type": "markdown",
      "metadata": {
        "id": "aaXHbWGeRd5Z"
      },
      "source": [
        "Verificação se existem dados duplicados"
      ]
    },
    {
      "cell_type": "code",
      "execution_count": 7,
      "metadata": {
        "colab": {
          "base_uri": "https://localhost:8080/"
        },
        "id": "xSYWu2tyRgdq",
        "outputId": "6c29fd4e-f538-4a47-9b21-a8a7daacce67"
      },
      "outputs": [
        {
          "data": {
            "text/plain": [
              "0"
            ]
          },
          "execution_count": 7,
          "metadata": {},
          "output_type": "execute_result"
        }
      ],
      "source": [
        "(data.duplicated()).sum()"
      ]
    },
    {
      "cell_type": "markdown",
      "metadata": {
        "id": "GBk907_sYkQi"
      },
      "source": [
        "Criação dos filtros para classes de número 1 e 4"
      ]
    },
    {
      "cell_type": "code",
      "execution_count": 8,
      "metadata": {
        "id": "V8cKjyrKYO9a"
      },
      "outputs": [],
      "source": [
        "filtro1 = data[data['classe'] == 1].index\n",
        "filtro2 = data[data['classe'] == 4].index"
      ]
    },
    {
      "cell_type": "markdown",
      "metadata": {
        "id": "rr8i5cUhYqNC"
      },
      "source": [
        "Exclusão das linhas cujas classes são filtradas"
      ]
    },
    {
      "cell_type": "code",
      "execution_count": 9,
      "metadata": {
        "id": "PmvJU-oMUseE"
      },
      "outputs": [],
      "source": [
        "data.drop(filtro1, inplace = True)\n",
        "data.drop(filtro2, inplace = True)"
      ]
    },
    {
      "cell_type": "markdown",
      "metadata": {
        "id": "f4pakbNMZdkT"
      },
      "source": [
        "Confirmação se a exclusão foi bem sucedida:"
      ]
    },
    {
      "cell_type": "code",
      "execution_count": 10,
      "metadata": {
        "colab": {
          "base_uri": "https://localhost:8080/"
        },
        "id": "N94rEXH6Y99R",
        "outputId": "cb0ecaa9-1e9a-44dd-f52b-018cd6ffcb07"
      },
      "outputs": [
        {
          "data": {
            "text/plain": [
              "2    81\n",
              "3    61\n",
              "Name: classe, dtype: int64"
            ]
          },
          "execution_count": 10,
          "metadata": {},
          "output_type": "execute_result"
        }
      ],
      "source": [
        "data[\"classe\"].value_counts()"
      ]
    },
    {
      "cell_type": "code",
      "execution_count": 11,
      "metadata": {
        "colab": {
          "base_uri": "https://localhost:8080/"
        },
        "id": "LM-83iuAAZtC",
        "outputId": "1b6e4742-6abf-4ffb-e5a1-d5cc2b83c616"
      },
      "outputs": [
        {
          "data": {
            "text/plain": [
              "(array([81.,  0.,  0.,  0.,  0.,  0.,  0.,  0.,  0., 61.]),\n",
              " array([2. , 2.1, 2.2, 2.3, 2.4, 2.5, 2.6, 2.7, 2.8, 2.9, 3. ]),\n",
              " <a list of 10 Patch objects>)"
            ]
          },
          "execution_count": 11,
          "metadata": {},
          "output_type": "execute_result"
        },
        {
          "data": {
            "image/png": "[encoded data removed]",
            "text/plain": [
              "<Figure size 432x288 with 1 Axes>"
            ]
          },
          "metadata": {
            "needs_background": "light"
          },
          "output_type": "display_data"
        }
      ],
      "source": [
        "plt.hist(data['classe'])"
      ]
    },
    {
      "cell_type": "markdown",
      "metadata": {
        "id": "yK1ACPYbb00j"
      },
      "source": [
        "# Divisão dos atributos de entrada e saída"
      ]
    },
    {
      "cell_type": "code",
      "execution_count": 12,
      "metadata": {
        "id": "I6G4pCIYb4__"
      },
      "outputs": [],
      "source": [
        "entrada = data[['linfaticos', 'bloco_affere','bloco_linf_c','bloco_linf_s','bypass',\n",
        "            'extravasados'\t,'regeneracao'\t,'absorcao_precoce'\t,'linfonodos_reduzido',\n",
        "            'linfonodos_aumentados'\t,'mudancas_linfonodos'\t,'defeitos_nodulos',\n",
        "            'mudancas_nodulos','mudancas_estruturas'\t,'formas_especiais',\n",
        "            'deslocamento','exclusao_nodulos','qtd_nodulos']]\n",
        "saida = data['classe']"
      ]
    },
    {
      "cell_type": "markdown",
      "metadata": {
        "id": "A5esCDXwF8Ll"
      },
      "source": [
        "# Exploração dos Dados através de Medidas de Localidade"
      ]
    },
    {
      "cell_type": "markdown",
      "metadata": {
        "id": "z9_BuaUsXZCn"
      },
      "source": [
        "Para atributos qualitativos serão utilizadas as seguintes medidas:\n",
        " * Moda\n",
        " * Quartis (25%, 50%, 75%)\n",
        "\n",
        "Para os quantitativos, além dos supracitados, também serão utilizadas:\n",
        "* Média\n",
        "* Mediana"
      ]
    },
    {
      "cell_type": "code",
      "execution_count": null,
      "metadata": {
        "colab": {
          "base_uri": "https://localhost:8080/",
          "height": 145
        },
        "id": "uUiLfXLoZyHp",
        "outputId": "27ca82f0-b91f-4a23-c690-e028417c92fb"
      },
      "outputs": [
        {
          "data": {
            "text/html": [
              "\n",
              "  <div id=\"df-c96d0a08-60b0-4831-b665-9b68e9edf67f\">\n",
              "    <div class=\"colab-df-container\">\n",
              "      <div>\n",
              "<style scoped>\n",
              "    .dataframe tbody tr th:only-of-type {\n",
              "        vertical-align: middle;\n",
              "    }\n",
              "\n",
              "    .dataframe tbody tr th {\n",
              "        vertical-align: top;\n",
              "    }\n",
              "\n",
              "    .dataframe thead th {\n",
              "        text-align: right;\n",
              "    }\n",
              "</style>\n",
              "<table border=\"1\" class=\"dataframe\">\n",
              "  <thead>\n",
              "    <tr style=\"text-align: right;\">\n",
              "      <th></th>\n",
              "      <th>linfaticos</th>\n",
              "      <th>bloco_affere</th>\n",
              "      <th>bloco_linf_c</th>\n",
              "      <th>bloco_linf_s</th>\n",
              "      <th>bypass</th>\n",
              "      <th>extravasados</th>\n",
              "      <th>regeneracao</th>\n",
              "      <th>absorcao_precoce</th>\n",
              "      <th>linfonodos_reduzido</th>\n",
              "      <th>linfonodos_aumentados</th>\n",
              "      <th>mudancas_linfonodos</th>\n",
              "      <th>defeitos_nodulos</th>\n",
              "      <th>mudancas_nodulos</th>\n",
              "      <th>mudancas_estruturas</th>\n",
              "      <th>formas_especiais</th>\n",
              "      <th>deslocamento</th>\n",
              "      <th>exclusao_nodulos</th>\n",
              "      <th>qtd_nodulos</th>\n",
              "    </tr>\n",
              "  </thead>\n",
              "  <tbody>\n",
              "    <tr>\n",
              "      <th>0</th>\n",
              "      <td>2</td>\n",
              "      <td>2</td>\n",
              "      <td>1</td>\n",
              "      <td>1</td>\n",
              "      <td>1</td>\n",
              "      <td>1</td>\n",
              "      <td>1</td>\n",
              "      <td>2</td>\n",
              "      <td>1</td>\n",
              "      <td>2</td>\n",
              "      <td>2</td>\n",
              "      <td>4</td>\n",
              "      <td>3</td>\n",
              "      <td>8</td>\n",
              "      <td>3</td>\n",
              "      <td>2</td>\n",
              "      <td>2</td>\n",
              "      <td>1</td>\n",
              "    </tr>\n",
              "  </tbody>\n",
              "</table>\n",
              "</div>\n",
              "      <button class=\"colab-df-convert\" onclick=\"convertToInteractive('df-c96d0a08-60b0-4831-b665-9b68e9edf67f')\"\n",
              "              title=\"Convert this dataframe to an interactive table.\"\n",
              "              style=\"display:none;\">\n",
              "        \n",
              "  <svg xmlns=\"http://www.w3.org/2000/svg\" height=\"24px\"viewBox=\"0 0 24 24\"\n",
              "       width=\"24px\">\n",
              "    <path d=\"M0 0h24v24H0V0z\" fill=\"none\"/>\n",
              "    <path d=\"M18.56 5.44l.94 2.06.94-2.06 2.06-.94-2.06-.94-.94-2.06-.94 2.06-2.06.94zm-11 1L8.5 8.5l.94-2.06 2.06-.94-2.06-.94L8.5 2.5l-.94 2.06-2.06.94zm10 10l.94 2.06.94-2.06 2.06-.94-2.06-.94-.94-2.06-.94 2.06-2.06.94z\"/><path d=\"M17.41 7.96l-1.37-1.37c-.4-.4-.92-.59-1.43-.59-.52 0-1.04.2-1.43.59L10.3 9.45l-7.72 7.72c-.78.78-.78 2.05 0 2.83L4 21.41c.39.39.9.59 1.41.59.51 0 1.02-.2 1.41-.59l7.78-7.78 2.81-2.81c.8-.78.8-2.07 0-2.86zM5.41 20L4 18.59l7.72-7.72 1.47 1.35L5.41 20z\"/>\n",
              "  </svg>\n",
              "      </button>\n",
              "      \n",
              "  <style>\n",
              "    .colab-df-container {\n",
              "      display:flex;\n",
              "      flex-wrap:wrap;\n",
              "      gap: 12px;\n",
              "    }\n",
              "\n",
              "    .colab-df-convert {\n",
              "      background-color: #E8F0FE;\n",
              "      border: none;\n",
              "      border-radius: 50%;\n",
              "      cursor: pointer;\n",
              "      display: none;\n",
              "      fill: #1967D2;\n",
              "      height: 32px;\n",
              "      padding: 0 0 0 0;\n",
              "      width: 32px;\n",
              "    }\n",
              "\n",
              "    .colab-df-convert:hover {\n",
              "      background-color: #E2EBFA;\n",
              "      box-shadow: 0px 1px 2px rgba(60, 64, 67, 0.3), 0px 1px 3px 1px rgba(60, 64, 67, 0.15);\n",
              "      fill: #174EA6;\n",
              "    }\n",
              "\n",
              "    [theme=dark] .colab-df-convert {\n",
              "      background-color: #3B4455;\n",
              "      fill: #D2E3FC;\n",
              "    }\n",
              "\n",
              "    [theme=dark] .colab-df-convert:hover {\n",
              "      background-color: #434B5C;\n",
              "      box-shadow: 0px 1px 3px 1px rgba(0, 0, 0, 0.15);\n",
              "      filter: drop-shadow(0px 1px 2px rgba(0, 0, 0, 0.3));\n",
              "      fill: #FFFFFF;\n",
              "    }\n",
              "  </style>\n",
              "\n",
              "      <script>\n",
              "        const buttonEl =\n",
              "          document.querySelector('#df-c96d0a08-60b0-4831-b665-9b68e9edf67f button.colab-df-convert');\n",
              "        buttonEl.style.display =\n",
              "          google.colab.kernel.accessAllowed ? 'block' : 'none';\n",
              "\n",
              "        async function convertToInteractive(key) {\n",
              "          const element = document.querySelector('#df-c96d0a08-60b0-4831-b665-9b68e9edf67f');\n",
              "          const dataTable =\n",
              "            await google.colab.kernel.invokeFunction('convertToInteractive',\n",
              "                                                     [key], {});\n",
              "          if (!dataTable) return;\n",
              "\n",
              "          const docLinkHtml = 'Like what you see? Visit the ' +\n",
              "            '<a target=\"_blank\" href=https://colab.research.google.com/notebooks/data_table.ipynb>data table notebook</a>'\n",
              "            + ' to learn more about interactive tables.';\n",
              "          element.innerHTML = '';\n",
              "          dataTable['output_type'] = 'display_data';\n",
              "          await google.colab.output.renderOutput(dataTable, element);\n",
              "          const docLink = document.createElement('div');\n",
              "          docLink.innerHTML = docLinkHtml;\n",
              "          element.appendChild(docLink);\n",
              "        }\n",
              "      </script>\n",
              "    </div>\n",
              "  </div>\n",
              "  "
            ],
            "text/plain": [
              "   linfaticos  bloco_affere  bloco_linf_c  bloco_linf_s  bypass  extravasados  \\\n",
              "0           2             2             1             1       1             1   \n",
              "\n",
              "   regeneracao  absorcao_precoce  linfonodos_reduzido  linfonodos_aumentados  \\\n",
              "0            1                 2                    1                      2   \n",
              "\n",
              "   mudancas_linfonodos  defeitos_nodulos  mudancas_nodulos  \\\n",
              "0                    2                 4                 3   \n",
              "\n",
              "   mudancas_estruturas  formas_especiais  deslocamento  exclusao_nodulos  \\\n",
              "0                    8                 3             2                 2   \n",
              "\n",
              "   qtd_nodulos  \n",
              "0            1  "
            ]
          },
          "execution_count": 225,
          "metadata": {},
          "output_type": "execute_result"
        }
      ],
      "source": [
        "entrada.mode()"
      ]
    },
    {
      "cell_type": "code",
      "execution_count": null,
      "metadata": {
        "colab": {
          "base_uri": "https://localhost:8080/"
        },
        "id": "cUt9AysAio0B",
        "outputId": "bfdce26c-2d5d-47bd-eba5-a0c2ee58cbbf"
      },
      "outputs": [
        {
          "data": {
            "text/plain": [
              "linfaticos               2.0\n",
              "bloco_affere             1.0\n",
              "bloco_linf_c             1.0\n",
              "bloco_linf_s             1.0\n",
              "bypass                   1.0\n",
              "extravasados             1.0\n",
              "regeneracao              1.0\n",
              "absorcao_precoce         1.0\n",
              "linfonodos_reduzido      1.0\n",
              "linfonodos_aumentados    2.0\n",
              "mudancas_linfonodos      2.0\n",
              "defeitos_nodulos         2.0\n",
              "mudancas_nodulos         2.0\n",
              "mudancas_estruturas      4.0\n",
              "formas_especiais         2.0\n",
              "deslocamento             1.0\n",
              "exclusao_nodulos         2.0\n",
              "qtd_nodulos              1.0\n",
              "Name: 0.25, dtype: float64"
            ]
          },
          "execution_count": 226,
          "metadata": {},
          "output_type": "execute_result"
        }
      ],
      "source": [
        "entrada.quantile(0.25)"
      ]
    },
    {
      "cell_type": "code",
      "execution_count": null,
      "metadata": {
        "colab": {
          "base_uri": "https://localhost:8080/"
        },
        "id": "bsVR_VGtbND_",
        "outputId": "e0f9e965-b686-4856-b73b-d8e6dda09c17"
      },
      "outputs": [
        {
          "data": {
            "text/plain": [
              "linfaticos               3.0\n",
              "bloco_affere             2.0\n",
              "bloco_linf_c             1.0\n",
              "bloco_linf_s             1.0\n",
              "bypass                   1.0\n",
              "extravasados             1.0\n",
              "regeneracao              1.0\n",
              "absorcao_precoce         2.0\n",
              "linfonodos_reduzido      1.0\n",
              "linfonodos_aumentados    2.0\n",
              "mudancas_linfonodos      2.0\n",
              "defeitos_nodulos         3.0\n",
              "mudancas_nodulos         3.0\n",
              "mudancas_estruturas      5.0\n",
              "formas_especiais         3.0\n",
              "deslocamento             2.0\n",
              "exclusao_nodulos         2.0\n",
              "qtd_nodulos              2.0\n",
              "Name: 0.5, dtype: float64"
            ]
          },
          "execution_count": 227,
          "metadata": {},
          "output_type": "execute_result"
        }
      ],
      "source": [
        "entrada.quantile(0.5)"
      ]
    },
    {
      "cell_type": "code",
      "execution_count": null,
      "metadata": {
        "colab": {
          "base_uri": "https://localhost:8080/"
        },
        "id": "4HRklWs3iwbh",
        "outputId": "fed4a2a5-1291-4fd7-884c-7144838b978b"
      },
      "outputs": [
        {
          "data": {
            "text/plain": [
              "linfaticos               3.0\n",
              "bloco_affere             2.0\n",
              "bloco_linf_c             1.0\n",
              "bloco_linf_s             1.0\n",
              "bypass                   1.0\n",
              "extravasados             2.0\n",
              "regeneracao              1.0\n",
              "absorcao_precoce         2.0\n",
              "linfonodos_reduzido      1.0\n",
              "linfonodos_aumentados    3.0\n",
              "mudancas_linfonodos      3.0\n",
              "defeitos_nodulos         4.0\n",
              "mudancas_nodulos         3.0\n",
              "mudancas_estruturas      8.0\n",
              "formas_especiais         3.0\n",
              "deslocamento             2.0\n",
              "exclusao_nodulos         2.0\n",
              "qtd_nodulos              3.0\n",
              "Name: 0.75, dtype: float64"
            ]
          },
          "execution_count": 228,
          "metadata": {},
          "output_type": "execute_result"
        }
      ],
      "source": [
        "entrada.quantile(0.75)"
      ]
    },
    {
      "cell_type": "markdown",
      "metadata": {
        "id": "rvVyX1Zui44K"
      },
      "source": [
        "Dados Quantitativos:"
      ]
    },
    {
      "cell_type": "code",
      "execution_count": null,
      "metadata": {
        "colab": {
          "base_uri": "https://localhost:8080/"
        },
        "id": "aZFr1muii68C",
        "outputId": "88e324d2-a829-4d89-9be7-5fa99d4a5dad"
      },
      "outputs": [
        {
          "data": {
            "text/plain": [
              "linfonodos_reduzido      1.014085\n",
              "linfonodos_aumentados    2.521127\n",
              "qtd_nodulos              2.535211\n",
              "dtype: float64"
            ]
          },
          "execution_count": 229,
          "metadata": {},
          "output_type": "execute_result"
        }
      ],
      "source": [
        "entrada[['linfonodos_reduzido','linfonodos_aumentados', 'qtd_nodulos']].mean()"
      ]
    },
    {
      "cell_type": "code",
      "execution_count": null,
      "metadata": {
        "colab": {
          "base_uri": "https://localhost:8080/"
        },
        "id": "0cndf15ijXyk",
        "outputId": "eee96cdf-55e6-4f9a-c100-f7cd641c492f"
      },
      "outputs": [
        {
          "data": {
            "text/plain": [
              "linfonodos_reduzido      1.0\n",
              "linfonodos_aumentados    2.0\n",
              "qtd_nodulos              2.0\n",
              "dtype: float64"
            ]
          },
          "execution_count": 230,
          "metadata": {},
          "output_type": "execute_result"
        }
      ],
      "source": [
        "entrada[['linfonodos_reduzido','linfonodos_aumentados', 'qtd_nodulos']].median()"
      ]
    },
    {
      "cell_type": "markdown",
      "metadata": {
        "id": "VrxU5EDFbWlo"
      },
      "source": [
        "# Exploração dos Dados através de Medidas de Distribuição"
      ]
    },
    {
      "cell_type": "markdown",
      "metadata": {
        "id": "HPK5KrYen_ds"
      },
      "source": [
        "### Histogramas"
      ]
    },
    {
      "cell_type": "code",
      "execution_count": null,
      "metadata": {
        "colab": {
          "base_uri": "https://localhost:8080/",
          "height": 351
        },
        "id": "QVawy9ZCmYE0",
        "outputId": "37c66e8b-ed9c-4ec7-f46e-8a0674d080d1"
      },
      "outputs": [
        {
          "name": "stderr",
          "output_type": "stream",
          "text": [
            "/usr/local/lib/python3.7/dist-packages/seaborn/distributions.py:2619: FutureWarning: `distplot` is a deprecated function and will be removed in a future version. Please adapt your code to use either `displot` (a figure-level function with similar flexibility) or `histplot` (an axes-level function for histograms).\n",
            "  warnings.warn(msg, FutureWarning)\n"
          ]
        },
        {
          "data": {
            "text/plain": [
              "<matplotlib.axes._subplots.AxesSubplot at 0x7fe25eed8c50>"
            ]
          },
          "execution_count": 304,
          "metadata": {},
          "output_type": "execute_result"
        },
        {
          "data": {
            "image/png": "[encoded data removed]",
            "text/plain": [
              "<Figure size 432x288 with 1 Axes>"
            ]
          },
          "metadata": {
            "needs_background": "light"
          },
          "output_type": "display_data"
        }
      ],
      "source": [
        "sns.distplot(entrada['linfaticos'])"
      ]
    },
    {
      "cell_type": "code",
      "execution_count": null,
      "metadata": {
        "colab": {
          "base_uri": "https://localhost:8080/",
          "height": 352
        },
        "id": "ky5ySlpvmZ7l",
        "outputId": "20a7a06a-9bbf-40fa-ff91-f29a2e191a62"
      },
      "outputs": [
        {
          "name": "stderr",
          "output_type": "stream",
          "text": [
            "/usr/local/lib/python3.7/dist-packages/seaborn/distributions.py:2619: FutureWarning: `distplot` is a deprecated function and will be removed in a future version. Please adapt your code to use either `displot` (a figure-level function with similar flexibility) or `histplot` (an axes-level function for histograms).\n",
            "  warnings.warn(msg, FutureWarning)\n"
          ]
        },
        {
          "data": {
            "text/plain": [
              "<matplotlib.axes._subplots.AxesSubplot at 0x7fe25ce14b50>"
            ]
          },
          "execution_count": 305,
          "metadata": {},
          "output_type": "execute_result"
        },
        {
          "data": {
            "image/png": "[encoded data removed]",
            "text/plain": [
              "<Figure size 432x288 with 1 Axes>"
            ]
          },
          "metadata": {
            "needs_background": "light"
          },
          "output_type": "display_data"
        }
      ],
      "source": [
        "sns.distplot(entrada['bloco_affere'])"
      ]
    },
    {
      "cell_type": "code",
      "execution_count": null,
      "metadata": {
        "colab": {
          "base_uri": "https://localhost:8080/",
          "height": 352
        },
        "id": "t64lUXDlo2qp",
        "outputId": "d5fb07c0-8095-4301-80b4-9ec6ab98ca43"
      },
      "outputs": [
        {
          "name": "stderr",
          "output_type": "stream",
          "text": [
            "/usr/local/lib/python3.7/dist-packages/seaborn/distributions.py:2619: FutureWarning: `distplot` is a deprecated function and will be removed in a future version. Please adapt your code to use either `displot` (a figure-level function with similar flexibility) or `histplot` (an axes-level function for histograms).\n",
            "  warnings.warn(msg, FutureWarning)\n"
          ]
        },
        {
          "data": {
            "text/plain": [
              "<matplotlib.axes._subplots.AxesSubplot at 0x7fe25cdbc7d0>"
            ]
          },
          "execution_count": 306,
          "metadata": {},
          "output_type": "execute_result"
        },
        {
          "data": {
            "image/png": "[encoded data removed]",
            "text/plain": [
              "<Figure size 432x288 with 1 Axes>"
            ]
          },
          "metadata": {
            "needs_background": "light"
          },
          "output_type": "display_data"
        }
      ],
      "source": [
        "sns.distplot(entrada['bloco_linf_c'])"
      ]
    },
    {
      "cell_type": "code",
      "execution_count": null,
      "metadata": {
        "colab": {
          "base_uri": "https://localhost:8080/",
          "height": 352
        },
        "id": "2X96UWffovXx",
        "outputId": "25eff769-380a-4abd-a116-e301f2036292"
      },
      "outputs": [
        {
          "name": "stderr",
          "output_type": "stream",
          "text": [
            "/usr/local/lib/python3.7/dist-packages/seaborn/distributions.py:2619: FutureWarning: `distplot` is a deprecated function and will be removed in a future version. Please adapt your code to use either `displot` (a figure-level function with similar flexibility) or `histplot` (an axes-level function for histograms).\n",
            "  warnings.warn(msg, FutureWarning)\n"
          ]
        },
        {
          "data": {
            "text/plain": [
              "<matplotlib.axes._subplots.AxesSubplot at 0x7fe25cca4710>"
            ]
          },
          "execution_count": 307,
          "metadata": {},
          "output_type": "execute_result"
        },
        {
          "data": {
            "image/png": "[encoded data removed]",
            "text/plain": [
              "<Figure size 432x288 with 1 Axes>"
            ]
          },
          "metadata": {
            "needs_background": "light"
          },
          "output_type": "display_data"
        }
      ],
      "source": [
        "sns.distplot(entrada['bloco_linf_s'])"
      ]
    },
    {
      "cell_type": "code",
      "execution_count": null,
      "metadata": {
        "colab": {
          "base_uri": "https://localhost:8080/",
          "height": 351
        },
        "id": "XGuJ8T2SpC8c",
        "outputId": "c7b1aed7-37e7-4e4f-8d13-47ba7adfc25b"
      },
      "outputs": [
        {
          "name": "stderr",
          "output_type": "stream",
          "text": [
            "/usr/local/lib/python3.7/dist-packages/seaborn/distributions.py:2619: FutureWarning: `distplot` is a deprecated function and will be removed in a future version. Please adapt your code to use either `displot` (a figure-level function with similar flexibility) or `histplot` (an axes-level function for histograms).\n",
            "  warnings.warn(msg, FutureWarning)\n"
          ]
        },
        {
          "data": {
            "text/plain": [
              "<matplotlib.axes._subplots.AxesSubplot at 0x7fe25cc38490>"
            ]
          },
          "execution_count": 308,
          "metadata": {},
          "output_type": "execute_result"
        },
        {
          "data": {
            "image/png": "[encoded data removed]",
            "text/plain": [
              "<Figure size 432x288 with 1 Axes>"
            ]
          },
          "metadata": {
            "needs_background": "light"
          },
          "output_type": "display_data"
        }
      ],
      "source": [
        "sns.distplot(entrada['bypass'])"
      ]
    },
    {
      "cell_type": "code",
      "execution_count": null,
      "metadata": {
        "colab": {
          "base_uri": "https://localhost:8080/",
          "height": 351
        },
        "id": "8yY0O6tmpGos",
        "outputId": "7e301c28-d546-493c-c0a3-cfa2d0cd0978"
      },
      "outputs": [
        {
          "name": "stderr",
          "output_type": "stream",
          "text": [
            "/usr/local/lib/python3.7/dist-packages/seaborn/distributions.py:2619: FutureWarning: `distplot` is a deprecated function and will be removed in a future version. Please adapt your code to use either `displot` (a figure-level function with similar flexibility) or `histplot` (an axes-level function for histograms).\n",
            "  warnings.warn(msg, FutureWarning)\n"
          ]
        },
        {
          "data": {
            "text/plain": [
              "<matplotlib.axes._subplots.AxesSubplot at 0x7fe25cb5e750>"
            ]
          },
          "execution_count": 309,
          "metadata": {},
          "output_type": "execute_result"
        },
        {
          "data": {
            "image/png": "[encoded data removed]",
            "text/plain": [
              "<Figure size 432x288 with 1 Axes>"
            ]
          },
          "metadata": {
            "needs_background": "light"
          },
          "output_type": "display_data"
        }
      ],
      "source": [
        "sns.distplot(entrada['extravasados'])"
      ]
    },
    {
      "cell_type": "code",
      "execution_count": null,
      "metadata": {
        "colab": {
          "base_uri": "https://localhost:8080/",
          "height": 351
        },
        "id": "MObpgprJpKTt",
        "outputId": "9bf7b5db-75cd-4fe3-ceaa-43b40554d9bc"
      },
      "outputs": [
        {
          "name": "stderr",
          "output_type": "stream",
          "text": [
            "/usr/local/lib/python3.7/dist-packages/seaborn/distributions.py:2619: FutureWarning: `distplot` is a deprecated function and will be removed in a future version. Please adapt your code to use either `displot` (a figure-level function with similar flexibility) or `histplot` (an axes-level function for histograms).\n",
            "  warnings.warn(msg, FutureWarning)\n"
          ]
        },
        {
          "data": {
            "text/plain": [
              "<matplotlib.axes._subplots.AxesSubplot at 0x7fe25cb44f10>"
            ]
          },
          "execution_count": 310,
          "metadata": {},
          "output_type": "execute_result"
        },
        {
          "data": {
            "image/png": "[encoded data removed]",
            "text/plain": [
              "<Figure size 432x288 with 1 Axes>"
            ]
          },
          "metadata": {
            "needs_background": "light"
          },
          "output_type": "display_data"
        }
      ],
      "source": [
        "sns.distplot(entrada['regeneracao'])"
      ]
    },
    {
      "cell_type": "code",
      "execution_count": null,
      "metadata": {
        "colab": {
          "base_uri": "https://localhost:8080/",
          "height": 352
        },
        "id": "v75r70xGpOQy",
        "outputId": "e065e10c-e702-4a59-ce86-5d8500645468"
      },
      "outputs": [
        {
          "name": "stderr",
          "output_type": "stream",
          "text": [
            "/usr/local/lib/python3.7/dist-packages/seaborn/distributions.py:2619: FutureWarning: `distplot` is a deprecated function and will be removed in a future version. Please adapt your code to use either `displot` (a figure-level function with similar flexibility) or `histplot` (an axes-level function for histograms).\n",
            "  warnings.warn(msg, FutureWarning)\n"
          ]
        },
        {
          "data": {
            "text/plain": [
              "<matplotlib.axes._subplots.AxesSubplot at 0x7fe25ca622d0>"
            ]
          },
          "execution_count": 311,
          "metadata": {},
          "output_type": "execute_result"
        },
        {
          "data": {
            "image/png": "[encoded data removed]",
            "text/plain": [
              "<Figure size 432x288 with 1 Axes>"
            ]
          },
          "metadata": {
            "needs_background": "light"
          },
          "output_type": "display_data"
        }
      ],
      "source": [
        "sns.distplot(entrada['absorcao_precoce'])"
      ]
    },
    {
      "cell_type": "code",
      "execution_count": null,
      "metadata": {
        "colab": {
          "base_uri": "https://localhost:8080/",
          "height": 352
        },
        "id": "RgLwn69dydwl",
        "outputId": "5d4f9e15-f9ec-4c11-96fd-f2ecfba5f895"
      },
      "outputs": [
        {
          "name": "stderr",
          "output_type": "stream",
          "text": [
            "/usr/local/lib/python3.7/dist-packages/seaborn/distributions.py:2619: FutureWarning: `distplot` is a deprecated function and will be removed in a future version. Please adapt your code to use either `displot` (a figure-level function with similar flexibility) or `histplot` (an axes-level function for histograms).\n",
            "  warnings.warn(msg, FutureWarning)\n"
          ]
        },
        {
          "data": {
            "text/plain": [
              "<matplotlib.axes._subplots.AxesSubplot at 0x7fe25ca54090>"
            ]
          },
          "execution_count": 312,
          "metadata": {},
          "output_type": "execute_result"
        },
        {
          "data": {
            "image/png": "[encoded data removed]",
            "text/plain": [
              "<Figure size 432x288 with 1 Axes>"
            ]
          },
          "metadata": {
            "needs_background": "light"
          },
          "output_type": "display_data"
        }
      ],
      "source": [
        "sns.distplot(entrada['linfonodos_reduzido'])"
      ]
    },
    {
      "cell_type": "code",
      "execution_count": null,
      "metadata": {
        "colab": {
          "base_uri": "https://localhost:8080/",
          "height": 352
        },
        "id": "pDByVVbJyiTY",
        "outputId": "6498ab69-2423-4914-d14c-6229a40c3672"
      },
      "outputs": [
        {
          "name": "stderr",
          "output_type": "stream",
          "text": [
            "/usr/local/lib/python3.7/dist-packages/seaborn/distributions.py:2619: FutureWarning: `distplot` is a deprecated function and will be removed in a future version. Please adapt your code to use either `displot` (a figure-level function with similar flexibility) or `histplot` (an axes-level function for histograms).\n",
            "  warnings.warn(msg, FutureWarning)\n"
          ]
        },
        {
          "data": {
            "text/plain": [
              "<matplotlib.axes._subplots.AxesSubplot at 0x7fe25ca03090>"
            ]
          },
          "execution_count": 313,
          "metadata": {},
          "output_type": "execute_result"
        },
        {
          "data": {
            "image/png": "[encoded data removed]",
            "text/plain": [
              "<Figure size 432x288 with 1 Axes>"
            ]
          },
          "metadata": {
            "needs_background": "light"
          },
          "output_type": "display_data"
        }
      ],
      "source": [
        "sns.distplot(entrada['linfonodos_aumentados'])"
      ]
    },
    {
      "cell_type": "code",
      "execution_count": null,
      "metadata": {
        "colab": {
          "base_uri": "https://localhost:8080/",
          "height": 352
        },
        "id": "SgCTZGnLym-O",
        "outputId": "174533b9-d886-4420-e56d-de4fd037fc7c"
      },
      "outputs": [
        {
          "name": "stderr",
          "output_type": "stream",
          "text": [
            "/usr/local/lib/python3.7/dist-packages/seaborn/distributions.py:2619: FutureWarning: `distplot` is a deprecated function and will be removed in a future version. Please adapt your code to use either `displot` (a figure-level function with similar flexibility) or `histplot` (an axes-level function for histograms).\n",
            "  warnings.warn(msg, FutureWarning)\n"
          ]
        },
        {
          "data": {
            "text/plain": [
              "<matplotlib.axes._subplots.AxesSubplot at 0x7fe25c8df350>"
            ]
          },
          "execution_count": 314,
          "metadata": {},
          "output_type": "execute_result"
        },
        {
          "data": {
            "image/png": "[encoded data removed]",
            "text/plain": [
              "<Figure size 432x288 with 1 Axes>"
            ]
          },
          "metadata": {
            "needs_background": "light"
          },
          "output_type": "display_data"
        }
      ],
      "source": [
        "sns.distplot(entrada['mudancas_linfonodos'])"
      ]
    },
    {
      "cell_type": "code",
      "execution_count": null,
      "metadata": {
        "colab": {
          "base_uri": "https://localhost:8080/",
          "height": 352
        },
        "id": "XlJRCJLmyrQ-",
        "outputId": "c938bdeb-2990-42bc-90e1-6ee1558c3192"
      },
      "outputs": [
        {
          "name": "stderr",
          "output_type": "stream",
          "text": [
            "/usr/local/lib/python3.7/dist-packages/seaborn/distributions.py:2619: FutureWarning: `distplot` is a deprecated function and will be removed in a future version. Please adapt your code to use either `displot` (a figure-level function with similar flexibility) or `histplot` (an axes-level function for histograms).\n",
            "  warnings.warn(msg, FutureWarning)\n"
          ]
        },
        {
          "data": {
            "text/plain": [
              "<matplotlib.axes._subplots.AxesSubplot at 0x7fe25c858e10>"
            ]
          },
          "execution_count": 315,
          "metadata": {},
          "output_type": "execute_result"
        },
        {
          "data": {
            "image/png": "[encoded data removed]",
            "text/plain": [
              "<Figure size 432x288 with 1 Axes>"
            ]
          },
          "metadata": {
            "needs_background": "light"
          },
          "output_type": "display_data"
        }
      ],
      "source": [
        "sns.distplot(entrada['defeitos_nodulos'])"
      ]
    },
    {
      "cell_type": "code",
      "execution_count": null,
      "metadata": {
        "colab": {
          "base_uri": "https://localhost:8080/",
          "height": 352
        },
        "id": "kk6W32hPyvOH",
        "outputId": "84b7d13a-a09a-44fc-f246-6f8f0cbfccff"
      },
      "outputs": [
        {
          "name": "stderr",
          "output_type": "stream",
          "text": [
            "/usr/local/lib/python3.7/dist-packages/seaborn/distributions.py:2619: FutureWarning: `distplot` is a deprecated function and will be removed in a future version. Please adapt your code to use either `displot` (a figure-level function with similar flexibility) or `histplot` (an axes-level function for histograms).\n",
            "  warnings.warn(msg, FutureWarning)\n"
          ]
        },
        {
          "data": {
            "text/plain": [
              "<matplotlib.axes._subplots.AxesSubplot at 0x7fe25c7d9d90>"
            ]
          },
          "execution_count": 316,
          "metadata": {},
          "output_type": "execute_result"
        },
        {
          "data": {
            "image/png": "[encoded data removed]",
            "text/plain": [
              "<Figure size 432x288 with 1 Axes>"
            ]
          },
          "metadata": {
            "needs_background": "light"
          },
          "output_type": "display_data"
        }
      ],
      "source": [
        "sns.distplot(entrada['mudancas_nodulos'])"
      ]
    },
    {
      "cell_type": "code",
      "execution_count": null,
      "metadata": {
        "colab": {
          "base_uri": "https://localhost:8080/",
          "height": 352
        },
        "id": "F61g6YCIyydo",
        "outputId": "a5ba172c-29f1-478f-bb8e-713aa0c308e0"
      },
      "outputs": [
        {
          "name": "stderr",
          "output_type": "stream",
          "text": [
            "/usr/local/lib/python3.7/dist-packages/seaborn/distributions.py:2619: FutureWarning: `distplot` is a deprecated function and will be removed in a future version. Please adapt your code to use either `displot` (a figure-level function with similar flexibility) or `histplot` (an axes-level function for histograms).\n",
            "  warnings.warn(msg, FutureWarning)\n"
          ]
        },
        {
          "data": {
            "text/plain": [
              "<matplotlib.axes._subplots.AxesSubplot at 0x7fe25c7d7110>"
            ]
          },
          "execution_count": 317,
          "metadata": {},
          "output_type": "execute_result"
        },
        {
          "data": {
            "image/png": "[encoded data removed]",
            "text/plain": [
              "<Figure size 432x288 with 1 Axes>"
            ]
          },
          "metadata": {
            "needs_background": "light"
          },
          "output_type": "display_data"
        }
      ],
      "source": [
        "sns.distplot(entrada['mudancas_estruturas'])"
      ]
    },
    {
      "cell_type": "code",
      "execution_count": null,
      "metadata": {
        "colab": {
          "base_uri": "https://localhost:8080/",
          "height": 352
        },
        "id": "RrOYOq8ly2_2",
        "outputId": "87e4874f-286e-43a4-af13-129e6f0a1721"
      },
      "outputs": [
        {
          "name": "stderr",
          "output_type": "stream",
          "text": [
            "/usr/local/lib/python3.7/dist-packages/seaborn/distributions.py:2619: FutureWarning: `distplot` is a deprecated function and will be removed in a future version. Please adapt your code to use either `displot` (a figure-level function with similar flexibility) or `histplot` (an axes-level function for histograms).\n",
            "  warnings.warn(msg, FutureWarning)\n"
          ]
        },
        {
          "data": {
            "text/plain": [
              "<matplotlib.axes._subplots.AxesSubplot at 0x7fe25cb33f10>"
            ]
          },
          "execution_count": 318,
          "metadata": {},
          "output_type": "execute_result"
        },
        {
          "data": {
            "image/png": "[encoded data removed]",
            "text/plain": [
              "<Figure size 432x288 with 1 Axes>"
            ]
          },
          "metadata": {
            "needs_background": "light"
          },
          "output_type": "display_data"
        }
      ],
      "source": [
        "sns.distplot(entrada['formas_especiais'])"
      ]
    },
    {
      "cell_type": "code",
      "execution_count": null,
      "metadata": {
        "colab": {
          "base_uri": "https://localhost:8080/",
          "height": 351
        },
        "id": "Fad537fFy5Wt",
        "outputId": "92b6cc17-9845-4ca1-cf6f-62d426541a47"
      },
      "outputs": [
        {
          "name": "stderr",
          "output_type": "stream",
          "text": [
            "/usr/local/lib/python3.7/dist-packages/seaborn/distributions.py:2619: FutureWarning: `distplot` is a deprecated function and will be removed in a future version. Please adapt your code to use either `displot` (a figure-level function with similar flexibility) or `histplot` (an axes-level function for histograms).\n",
            "  warnings.warn(msg, FutureWarning)\n"
          ]
        },
        {
          "data": {
            "text/plain": [
              "<matplotlib.axes._subplots.AxesSubplot at 0x7fe25c667a90>"
            ]
          },
          "execution_count": 319,
          "metadata": {},
          "output_type": "execute_result"
        },
        {
          "data": {
            "image/png": "[encoded data removed]",
            "text/plain": [
              "<Figure size 432x288 with 1 Axes>"
            ]
          },
          "metadata": {
            "needs_background": "light"
          },
          "output_type": "display_data"
        }
      ],
      "source": [
        "sns.distplot(entrada['deslocamento'])"
      ]
    },
    {
      "cell_type": "code",
      "execution_count": null,
      "metadata": {
        "colab": {
          "base_uri": "https://localhost:8080/",
          "height": 352
        },
        "id": "Nqbg_yQvy-HX",
        "outputId": "69ab3175-f2c2-4918-c39d-4b5463f08a05"
      },
      "outputs": [
        {
          "name": "stderr",
          "output_type": "stream",
          "text": [
            "/usr/local/lib/python3.7/dist-packages/seaborn/distributions.py:2619: FutureWarning: `distplot` is a deprecated function and will be removed in a future version. Please adapt your code to use either `displot` (a figure-level function with similar flexibility) or `histplot` (an axes-level function for histograms).\n",
            "  warnings.warn(msg, FutureWarning)\n"
          ]
        },
        {
          "data": {
            "text/plain": [
              "<matplotlib.axes._subplots.AxesSubplot at 0x7fe25cb06350>"
            ]
          },
          "execution_count": 320,
          "metadata": {},
          "output_type": "execute_result"
        },
        {
          "data": {
            "image/png": "[encoded data removed]",
            "text/plain": [
              "<Figure size 432x288 with 1 Axes>"
            ]
          },
          "metadata": {
            "needs_background": "light"
          },
          "output_type": "display_data"
        }
      ],
      "source": [
        "sns.distplot(entrada['exclusao_nodulos'])"
      ]
    },
    {
      "cell_type": "code",
      "execution_count": null,
      "metadata": {
        "colab": {
          "base_uri": "https://localhost:8080/",
          "height": 352
        },
        "id": "DR2GxfS6zCHr",
        "outputId": "732f76c1-0533-4264-eb0f-f82fd33b6286"
      },
      "outputs": [
        {
          "name": "stderr",
          "output_type": "stream",
          "text": [
            "/usr/local/lib/python3.7/dist-packages/seaborn/distributions.py:2619: FutureWarning: `distplot` is a deprecated function and will be removed in a future version. Please adapt your code to use either `displot` (a figure-level function with similar flexibility) or `histplot` (an axes-level function for histograms).\n",
            "  warnings.warn(msg, FutureWarning)\n"
          ]
        },
        {
          "data": {
            "text/plain": [
              "<matplotlib.axes._subplots.AxesSubplot at 0x7fe25c5708d0>"
            ]
          },
          "execution_count": 321,
          "metadata": {},
          "output_type": "execute_result"
        },
        {
          "data": {
            "image/png": "[encoded data removed]",
            "text/plain": [
              "<Figure size 432x288 with 1 Axes>"
            ]
          },
          "metadata": {
            "needs_background": "light"
          },
          "output_type": "display_data"
        }
      ],
      "source": [
        "sns.distplot(entrada['qtd_nodulos'])"
      ]
    },
    {
      "cell_type": "code",
      "execution_count": null,
      "metadata": {
        "colab": {
          "base_uri": "https://localhost:8080/",
          "height": 145
        },
        "id": "PUwI2nCooAn-",
        "outputId": "91de772c-956b-4dab-8747-b4652ee8dea4"
      },
      "outputs": [
        {
          "data": {
            "text/html": [
              "\n",
              "  <div id=\"df-9b6d4caa-948a-4433-8d01-cf1b5888c5b8\">\n",
              "    <div class=\"colab-df-container\">\n",
              "      <div>\n",
              "<style scoped>\n",
              "    .dataframe tbody tr th:only-of-type {\n",
              "        vertical-align: middle;\n",
              "    }\n",
              "\n",
              "    .dataframe tbody tr th {\n",
              "        vertical-align: top;\n",
              "    }\n",
              "\n",
              "    .dataframe thead th {\n",
              "        text-align: right;\n",
              "    }\n",
              "</style>\n",
              "<table border=\"1\" class=\"dataframe\">\n",
              "  <thead>\n",
              "    <tr style=\"text-align: right;\">\n",
              "      <th></th>\n",
              "      <th>linfaticos</th>\n",
              "      <th>bloco_affere</th>\n",
              "      <th>bloco_linf_c</th>\n",
              "      <th>bloco_linf_s</th>\n",
              "      <th>bypass</th>\n",
              "      <th>extravasados</th>\n",
              "      <th>regeneracao</th>\n",
              "      <th>absorcao_precoce</th>\n",
              "      <th>linfonodos_reduzido</th>\n",
              "      <th>linfonodos_aumentados</th>\n",
              "      <th>mudancas_linfonodos</th>\n",
              "      <th>defeitos_nodulos</th>\n",
              "      <th>mudancas_nodulos</th>\n",
              "      <th>mudancas_estruturas</th>\n",
              "      <th>formas_especiais</th>\n",
              "      <th>deslocamento</th>\n",
              "      <th>exclusao_nodulos</th>\n",
              "      <th>qtd_nodulos</th>\n",
              "    </tr>\n",
              "  </thead>\n",
              "  <tbody>\n",
              "    <tr>\n",
              "      <th>0</th>\n",
              "      <td>2</td>\n",
              "      <td>2</td>\n",
              "      <td>1</td>\n",
              "      <td>1</td>\n",
              "      <td>1</td>\n",
              "      <td>1</td>\n",
              "      <td>1</td>\n",
              "      <td>2</td>\n",
              "      <td>1</td>\n",
              "      <td>2</td>\n",
              "      <td>2</td>\n",
              "      <td>4</td>\n",
              "      <td>3</td>\n",
              "      <td>8</td>\n",
              "      <td>3</td>\n",
              "      <td>2</td>\n",
              "      <td>2</td>\n",
              "      <td>1</td>\n",
              "    </tr>\n",
              "  </tbody>\n",
              "</table>\n",
              "</div>\n",
              "      <button class=\"colab-df-convert\" onclick=\"convertToInteractive('df-9b6d4caa-948a-4433-8d01-cf1b5888c5b8')\"\n",
              "              title=\"Convert this dataframe to an interactive table.\"\n",
              "              style=\"display:none;\">\n",
              "        \n",
              "  <svg xmlns=\"http://www.w3.org/2000/svg\" height=\"24px\"viewBox=\"0 0 24 24\"\n",
              "       width=\"24px\">\n",
              "    <path d=\"M0 0h24v24H0V0z\" fill=\"none\"/>\n",
              "    <path d=\"M18.56 5.44l.94 2.06.94-2.06 2.06-.94-2.06-.94-.94-2.06-.94 2.06-2.06.94zm-11 1L8.5 8.5l.94-2.06 2.06-.94-2.06-.94L8.5 2.5l-.94 2.06-2.06.94zm10 10l.94 2.06.94-2.06 2.06-.94-2.06-.94-.94-2.06-.94 2.06-2.06.94z\"/><path d=\"M17.41 7.96l-1.37-1.37c-.4-.4-.92-.59-1.43-.59-.52 0-1.04.2-1.43.59L10.3 9.45l-7.72 7.72c-.78.78-.78 2.05 0 2.83L4 21.41c.39.39.9.59 1.41.59.51 0 1.02-.2 1.41-.59l7.78-7.78 2.81-2.81c.8-.78.8-2.07 0-2.86zM5.41 20L4 18.59l7.72-7.72 1.47 1.35L5.41 20z\"/>\n",
              "  </svg>\n",
              "      </button>\n",
              "      \n",
              "  <style>\n",
              "    .colab-df-container {\n",
              "      display:flex;\n",
              "      flex-wrap:wrap;\n",
              "      gap: 12px;\n",
              "    }\n",
              "\n",
              "    .colab-df-convert {\n",
              "      background-color: #E8F0FE;\n",
              "      border: none;\n",
              "      border-radius: 50%;\n",
              "      cursor: pointer;\n",
              "      display: none;\n",
              "      fill: #1967D2;\n",
              "      height: 32px;\n",
              "      padding: 0 0 0 0;\n",
              "      width: 32px;\n",
              "    }\n",
              "\n",
              "    .colab-df-convert:hover {\n",
              "      background-color: #E2EBFA;\n",
              "      box-shadow: 0px 1px 2px rgba(60, 64, 67, 0.3), 0px 1px 3px 1px rgba(60, 64, 67, 0.15);\n",
              "      fill: #174EA6;\n",
              "    }\n",
              "\n",
              "    [theme=dark] .colab-df-convert {\n",
              "      background-color: #3B4455;\n",
              "      fill: #D2E3FC;\n",
              "    }\n",
              "\n",
              "    [theme=dark] .colab-df-convert:hover {\n",
              "      background-color: #434B5C;\n",
              "      box-shadow: 0px 1px 3px 1px rgba(0, 0, 0, 0.15);\n",
              "      filter: drop-shadow(0px 1px 2px rgba(0, 0, 0, 0.3));\n",
              "      fill: #FFFFFF;\n",
              "    }\n",
              "  </style>\n",
              "\n",
              "      <script>\n",
              "        const buttonEl =\n",
              "          document.querySelector('#df-9b6d4caa-948a-4433-8d01-cf1b5888c5b8 button.colab-df-convert');\n",
              "        buttonEl.style.display =\n",
              "          google.colab.kernel.accessAllowed ? 'block' : 'none';\n",
              "\n",
              "        async function convertToInteractive(key) {\n",
              "          const element = document.querySelector('#df-9b6d4caa-948a-4433-8d01-cf1b5888c5b8');\n",
              "          const dataTable =\n",
              "            await google.colab.kernel.invokeFunction('convertToInteractive',\n",
              "                                                     [key], {});\n",
              "          if (!dataTable) return;\n",
              "\n",
              "          const docLinkHtml = 'Like what you see? Visit the ' +\n",
              "            '<a target=\"_blank\" href=https://colab.research.google.com/notebooks/data_table.ipynb>data table notebook</a>'\n",
              "            + ' to learn more about interactive tables.';\n",
              "          element.innerHTML = '';\n",
              "          dataTable['output_type'] = 'display_data';\n",
              "          await google.colab.output.renderOutput(dataTable, element);\n",
              "          const docLink = document.createElement('div');\n",
              "          docLink.innerHTML = docLinkHtml;\n",
              "          element.appendChild(docLink);\n",
              "        }\n",
              "      </script>\n",
              "    </div>\n",
              "  </div>\n",
              "  "
            ],
            "text/plain": [
              "   linfaticos  bloco_affere  bloco_linf_c  bloco_linf_s  bypass  extravasados  \\\n",
              "0           2             2             1             1       1             1   \n",
              "\n",
              "   regeneracao  absorcao_precoce  linfonodos_reduzido  linfonodos_aumentados  \\\n",
              "0            1                 2                    1                      2   \n",
              "\n",
              "   mudancas_linfonodos  defeitos_nodulos  mudancas_nodulos  \\\n",
              "0                    2                 4                 3   \n",
              "\n",
              "   mudancas_estruturas  formas_especiais  deslocamento  exclusao_nodulos  \\\n",
              "0                    8                 3             2                 2   \n",
              "\n",
              "   qtd_nodulos  \n",
              "0            1  "
            ]
          },
          "execution_count": 322,
          "metadata": {},
          "output_type": "execute_result"
        }
      ],
      "source": [
        "entrada.mode()"
      ]
    },
    {
      "cell_type": "markdown",
      "metadata": {
        "id": "oYtO-QqM0m0V"
      },
      "source": [
        "# Exploração dos Dados através de Medidas de Dispersão"
      ]
    },
    {
      "cell_type": "markdown",
      "metadata": {
        "id": "x7I1pRiT22ek"
      },
      "source": [
        "Serão utilizadas as seguintes medidas:\n",
        "\n",
        "* Variância\n",
        "* Devio Padrão\n",
        "* Boxplot"
      ]
    },
    {
      "cell_type": "code",
      "execution_count": null,
      "metadata": {
        "colab": {
          "base_uri": "https://localhost:8080/"
        },
        "id": "j-AJmATZ2VNj",
        "outputId": "84839fe7-d38a-4670-ca60-a7325c23235e"
      },
      "outputs": [
        {
          "data": {
            "text/plain": [
              "linfonodos_reduzido      0.013886\n",
              "linfonodos_aumentados    0.658004\n",
              "qtd_nodulos              3.431859\n",
              "dtype: float64"
            ]
          },
          "execution_count": 250,
          "metadata": {},
          "output_type": "execute_result"
        }
      ],
      "source": [
        "np.var(entrada[['linfonodos_reduzido','linfonodos_aumentados', 'qtd_nodulos']])"
      ]
    },
    {
      "cell_type": "code",
      "execution_count": null,
      "metadata": {
        "colab": {
          "base_uri": "https://localhost:8080/"
        },
        "id": "wNxAf9Gf5CeO",
        "outputId": "4d66e1c6-dca5-4aed-b11c-7ebdc206f581"
      },
      "outputs": [
        {
          "data": {
            "text/plain": [
              "linfonodos_reduzido      0.117839\n",
              "linfonodos_aumentados    0.811175\n",
              "qtd_nodulos              1.852528\n",
              "dtype: float64"
            ]
          },
          "execution_count": 251,
          "metadata": {},
          "output_type": "execute_result"
        }
      ],
      "source": [
        "np.std(entrada[['linfonodos_reduzido','linfonodos_aumentados', 'qtd_nodulos']])"
      ]
    },
    {
      "cell_type": "markdown",
      "metadata": {
        "id": "prsuAyyLn4G_"
      },
      "source": [
        "### Boxplot"
      ]
    },
    {
      "cell_type": "code",
      "execution_count": null,
      "metadata": {
        "colab": {
          "base_uri": "https://localhost:8080/"
        },
        "id": "_zuKCSVZjdmK",
        "outputId": "d4d0d303-11cc-451d-ad49-abcabf607ee8"
      },
      "outputs": [
        {
          "name": "stderr",
          "output_type": "stream",
          "text": [
            "/usr/local/lib/python3.7/dist-packages/seaborn/_decorators.py:43: FutureWarning: Pass the following variable as a keyword arg: x. From version 0.12, the only valid positional argument will be `data`, and passing other arguments without an explicit keyword will result in an error or misinterpretation.\n",
            "  FutureWarning\n"
          ]
        },
        {
          "data": {
            "text/plain": [
              "<matplotlib.axes._subplots.AxesSubplot at 0x7fe25db11e10>"
            ]
          },
          "execution_count": 252,
          "metadata": {},
          "output_type": "execute_result"
        },
        {
          "data": {
            "image/png": "[encoded data removed]",
            "text/plain": [
              "<Figure size 432x288 with 1 Axes>"
            ]
          },
          "metadata": {
            "needs_background": "light"
          },
          "output_type": "display_data"
        }
      ],
      "source": [
        "sns.boxplot(entrada['linfaticos']) "
      ]
    },
    {
      "cell_type": "code",
      "execution_count": null,
      "metadata": {
        "colab": {
          "base_uri": "https://localhost:8080/"
        },
        "id": "u_cKjjK2jf29",
        "outputId": "55de53db-d203-40cb-84a1-da3db3e5dbb9"
      },
      "outputs": [
        {
          "name": "stderr",
          "output_type": "stream",
          "text": [
            "/usr/local/lib/python3.7/dist-packages/seaborn/_decorators.py:43: FutureWarning: Pass the following variable as a keyword arg: x. From version 0.12, the only valid positional argument will be `data`, and passing other arguments without an explicit keyword will result in an error or misinterpretation.\n",
            "  FutureWarning\n"
          ]
        },
        {
          "data": {
            "text/plain": [
              "<matplotlib.axes._subplots.AxesSubplot at 0x7fe25da70b90>"
            ]
          },
          "execution_count": 253,
          "metadata": {},
          "output_type": "execute_result"
        },
        {
          "data": {
            "image/png": "[encoded data removed]",
            "text/plain": [
              "<Figure size 432x288 with 1 Axes>"
            ]
          },
          "metadata": {
            "needs_background": "light"
          },
          "output_type": "display_data"
        }
      ],
      "source": [
        "sns.boxplot(entrada['bloco_affere'])"
      ]
    },
    {
      "cell_type": "code",
      "execution_count": null,
      "metadata": {
        "colab": {
          "base_uri": "https://localhost:8080/"
        },
        "id": "-XH_A16QkxN_",
        "outputId": "9faa36d7-e1ea-435e-8083-a251823f234b"
      },
      "outputs": [
        {
          "name": "stderr",
          "output_type": "stream",
          "text": [
            "/usr/local/lib/python3.7/dist-packages/seaborn/_decorators.py:43: FutureWarning: Pass the following variable as a keyword arg: x. From version 0.12, the only valid positional argument will be `data`, and passing other arguments without an explicit keyword will result in an error or misinterpretation.\n",
            "  FutureWarning\n"
          ]
        },
        {
          "data": {
            "text/plain": [
              "<matplotlib.axes._subplots.AxesSubplot at 0x7fe25d9edd50>"
            ]
          },
          "execution_count": 254,
          "metadata": {},
          "output_type": "execute_result"
        },
        {
          "data": {
            "image/png": "[encoded data removed]",
            "text/plain": [
              "<Figure size 432x288 with 1 Axes>"
            ]
          },
          "metadata": {
            "needs_background": "light"
          },
          "output_type": "display_data"
        }
      ],
      "source": [
        "sns.boxplot(entrada['bloco_linf_c'])"
      ]
    },
    {
      "cell_type": "code",
      "execution_count": null,
      "metadata": {
        "colab": {
          "base_uri": "https://localhost:8080/"
        },
        "id": "J3FabZBJk5Vp",
        "outputId": "178385a4-6833-4e3b-fa52-017fb6bdf500"
      },
      "outputs": [
        {
          "name": "stderr",
          "output_type": "stream",
          "text": [
            "/usr/local/lib/python3.7/dist-packages/seaborn/_decorators.py:43: FutureWarning: Pass the following variable as a keyword arg: x. From version 0.12, the only valid positional argument will be `data`, and passing other arguments without an explicit keyword will result in an error or misinterpretation.\n",
            "  FutureWarning\n"
          ]
        },
        {
          "data": {
            "text/plain": [
              "<matplotlib.axes._subplots.AxesSubplot at 0x7fe25d95c1d0>"
            ]
          },
          "execution_count": 255,
          "metadata": {},
          "output_type": "execute_result"
        },
        {
          "data": {
            "image/png": "[encoded data removed]",
            "text/plain": [
              "<Figure size 432x288 with 1 Axes>"
            ]
          },
          "metadata": {
            "needs_background": "light"
          },
          "output_type": "display_data"
        }
      ],
      "source": [
        "sns.boxplot(entrada['bloco_linf_s'])"
      ]
    },
    {
      "cell_type": "code",
      "execution_count": null,
      "metadata": {
        "colab": {
          "base_uri": "https://localhost:8080/"
        },
        "id": "TSX8sPzrk_vS",
        "outputId": "bd2c3731-1a92-4641-a9e9-28600470240e"
      },
      "outputs": [
        {
          "name": "stderr",
          "output_type": "stream",
          "text": [
            "/usr/local/lib/python3.7/dist-packages/seaborn/_decorators.py:43: FutureWarning: Pass the following variable as a keyword arg: x. From version 0.12, the only valid positional argument will be `data`, and passing other arguments without an explicit keyword will result in an error or misinterpretation.\n",
            "  FutureWarning\n"
          ]
        },
        {
          "data": {
            "text/plain": [
              "<matplotlib.axes._subplots.AxesSubplot at 0x7fe25d92f7d0>"
            ]
          },
          "execution_count": 256,
          "metadata": {},
          "output_type": "execute_result"
        },
        {
          "data": {
            "image/png": "[encoded data removed]",
            "text/plain": [
              "<Figure size 432x288 with 1 Axes>"
            ]
          },
          "metadata": {
            "needs_background": "light"
          },
          "output_type": "display_data"
        }
      ],
      "source": [
        "sns.boxplot(entrada['bypass'])"
      ]
    },
    {
      "cell_type": "code",
      "execution_count": null,
      "metadata": {
        "colab": {
          "base_uri": "https://localhost:8080/"
        },
        "id": "NMdsS5F4lDUt",
        "outputId": "458ef733-2060-4ccb-c814-d946fffb16bf"
      },
      "outputs": [
        {
          "name": "stderr",
          "output_type": "stream",
          "text": [
            "/usr/local/lib/python3.7/dist-packages/seaborn/_decorators.py:43: FutureWarning: Pass the following variable as a keyword arg: x. From version 0.12, the only valid positional argument will be `data`, and passing other arguments without an explicit keyword will result in an error or misinterpretation.\n",
            "  FutureWarning\n"
          ]
        },
        {
          "data": {
            "text/plain": [
              "<matplotlib.axes._subplots.AxesSubplot at 0x7fe25d8b2210>"
            ]
          },
          "execution_count": 257,
          "metadata": {},
          "output_type": "execute_result"
        },
        {
          "data": {
            "image/png": "[encoded data removed]",
            "text/plain": [
              "<Figure size 432x288 with 1 Axes>"
            ]
          },
          "metadata": {
            "needs_background": "light"
          },
          "output_type": "display_data"
        }
      ],
      "source": [
        "sns.boxplot(entrada['extravasados'])"
      ]
    },
    {
      "cell_type": "code",
      "execution_count": null,
      "metadata": {
        "colab": {
          "base_uri": "https://localhost:8080/"
        },
        "id": "lu5oloZklVcM",
        "outputId": "7ac8e3b3-b5e9-4942-bf68-5b455dc95833"
      },
      "outputs": [
        {
          "name": "stderr",
          "output_type": "stream",
          "text": [
            "/usr/local/lib/python3.7/dist-packages/seaborn/_decorators.py:43: FutureWarning: Pass the following variable as a keyword arg: x. From version 0.12, the only valid positional argument will be `data`, and passing other arguments without an explicit keyword will result in an error or misinterpretation.\n",
            "  FutureWarning\n"
          ]
        },
        {
          "data": {
            "text/plain": [
              "<matplotlib.axes._subplots.AxesSubplot at 0x7fe25d893d10>"
            ]
          },
          "execution_count": 258,
          "metadata": {},
          "output_type": "execute_result"
        },
        {
          "data": {
            "image/png": "[encoded data removed]",
            "text/plain": [
              "<Figure size 432x288 with 1 Axes>"
            ]
          },
          "metadata": {
            "needs_background": "light"
          },
          "output_type": "display_data"
        }
      ],
      "source": [
        "sns.boxplot(entrada['regeneracao'])"
      ]
    },
    {
      "cell_type": "code",
      "execution_count": null,
      "metadata": {
        "colab": {
          "base_uri": "https://localhost:8080/"
        },
        "id": "VYaJo4dLlsq7",
        "outputId": "bd5ea536-6fc7-4e4b-c556-26a690c45ea5"
      },
      "outputs": [
        {
          "name": "stderr",
          "output_type": "stream",
          "text": [
            "/usr/local/lib/python3.7/dist-packages/seaborn/_decorators.py:43: FutureWarning: Pass the following variable as a keyword arg: x. From version 0.12, the only valid positional argument will be `data`, and passing other arguments without an explicit keyword will result in an error or misinterpretation.\n",
            "  FutureWarning\n"
          ]
        },
        {
          "data": {
            "text/plain": [
              "<matplotlib.axes._subplots.AxesSubplot at 0x7fe25d803250>"
            ]
          },
          "execution_count": 259,
          "metadata": {},
          "output_type": "execute_result"
        },
        {
          "data": {
            "image/png": "[encoded data removed]",
            "text/plain": [
              "<Figure size 432x288 with 1 Axes>"
            ]
          },
          "metadata": {
            "needs_background": "light"
          },
          "output_type": "display_data"
        }
      ],
      "source": [
        "sns.boxplot(entrada['absorcao_precoce'])"
      ]
    },
    {
      "cell_type": "code",
      "execution_count": 323,
      "metadata": {
        "colab": {
          "base_uri": "https://localhost:8080/",
          "height": 352
        },
        "id": "XUaqoC4Ulx2b",
        "outputId": "91ae70a2-7735-461a-ff87-7914a8429259"
      },
      "outputs": [
        {
          "name": "stderr",
          "output_type": "stream",
          "text": [
            "/usr/local/lib/python3.7/dist-packages/seaborn/_decorators.py:43: FutureWarning: Pass the following variable as a keyword arg: x. From version 0.12, the only valid positional argument will be `data`, and passing other arguments without an explicit keyword will result in an error or misinterpretation.\n",
            "  FutureWarning\n"
          ]
        },
        {
          "data": {
            "text/plain": [
              "<matplotlib.axes._subplots.AxesSubplot at 0x7fe25c94a1d0>"
            ]
          },
          "execution_count": 323,
          "metadata": {},
          "output_type": "execute_result"
        },
        {
          "data": {
            "image/png": "[encoded data removed]",
            "text/plain": [
              "<Figure size 432x288 with 1 Axes>"
            ]
          },
          "metadata": {
            "needs_background": "light"
          },
          "output_type": "display_data"
        }
      ],
      "source": [
        "sns.boxplot(entrada['linfonodos_reduzido'])"
      ]
    },
    {
      "cell_type": "code",
      "execution_count": null,
      "metadata": {
        "colab": {
          "base_uri": "https://localhost:8080/"
        },
        "id": "kZRgbO6al2Fb",
        "outputId": "a1425ca0-578b-4e21-9fd4-bb67ab5bc88a"
      },
      "outputs": [
        {
          "name": "stderr",
          "output_type": "stream",
          "text": [
            "/usr/local/lib/python3.7/dist-packages/seaborn/_decorators.py:43: FutureWarning: Pass the following variable as a keyword arg: x. From version 0.12, the only valid positional argument will be `data`, and passing other arguments without an explicit keyword will result in an error or misinterpretation.\n",
            "  FutureWarning\n"
          ]
        },
        {
          "data": {
            "text/plain": [
              "<matplotlib.axes._subplots.AxesSubplot at 0x7fe25d88b890>"
            ]
          },
          "execution_count": 261,
          "metadata": {},
          "output_type": "execute_result"
        },
        {
          "data": {
            "image/png": "[encoded data removed]",
            "text/plain": [
              "<Figure size 432x288 with 1 Axes>"
            ]
          },
          "metadata": {
            "needs_background": "light"
          },
          "output_type": "display_data"
        }
      ],
      "source": [
        "sns.boxplot(entrada['linfonodos_aumentados'])"
      ]
    },
    {
      "cell_type": "code",
      "execution_count": null,
      "metadata": {
        "colab": {
          "base_uri": "https://localhost:8080/"
        },
        "id": "3lkIdtfKl-KX",
        "outputId": "d799ac2c-f37b-4031-f809-466fc9a7b403"
      },
      "outputs": [
        {
          "name": "stderr",
          "output_type": "stream",
          "text": [
            "/usr/local/lib/python3.7/dist-packages/seaborn/_decorators.py:43: FutureWarning: Pass the following variable as a keyword arg: x. From version 0.12, the only valid positional argument will be `data`, and passing other arguments without an explicit keyword will result in an error or misinterpretation.\n",
            "  FutureWarning\n"
          ]
        },
        {
          "data": {
            "text/plain": [
              "<matplotlib.axes._subplots.AxesSubplot at 0x7fe25d6d16d0>"
            ]
          },
          "execution_count": 262,
          "metadata": {},
          "output_type": "execute_result"
        },
        {
          "data": {
            "image/png": "[encoded data removed]",
            "text/plain": [
              "<Figure size 432x288 with 1 Axes>"
            ]
          },
          "metadata": {
            "needs_background": "light"
          },
          "output_type": "display_data"
        }
      ],
      "source": [
        "sns.boxplot(entrada['mudancas_linfonodos'])"
      ]
    },
    {
      "cell_type": "code",
      "execution_count": null,
      "metadata": {
        "colab": {
          "base_uri": "https://localhost:8080/"
        },
        "id": "gBEfWAXrmG_e",
        "outputId": "62373384-c6ec-45c5-8597-7652cd2245ba"
      },
      "outputs": [
        {
          "name": "stderr",
          "output_type": "stream",
          "text": [
            "/usr/local/lib/python3.7/dist-packages/seaborn/_decorators.py:43: FutureWarning: Pass the following variable as a keyword arg: x. From version 0.12, the only valid positional argument will be `data`, and passing other arguments without an explicit keyword will result in an error or misinterpretation.\n",
            "  FutureWarning\n"
          ]
        },
        {
          "data": {
            "text/plain": [
              "<matplotlib.axes._subplots.AxesSubplot at 0x7fe25d638090>"
            ]
          },
          "execution_count": 263,
          "metadata": {},
          "output_type": "execute_result"
        },
        {
          "data": {
            "image/png": "[encoded data removed]",
            "text/plain": [
              "<Figure size 432x288 with 1 Axes>"
            ]
          },
          "metadata": {
            "needs_background": "light"
          },
          "output_type": "display_data"
        }
      ],
      "source": [
        "sns.boxplot(entrada['defeitos_nodulos'])"
      ]
    },
    {
      "cell_type": "code",
      "execution_count": null,
      "metadata": {
        "colab": {
          "base_uri": "https://localhost:8080/"
        },
        "id": "GWpSYLN9mfQc",
        "outputId": "ae3908bb-6c23-4014-e628-0da784dfc19e"
      },
      "outputs": [
        {
          "name": "stderr",
          "output_type": "stream",
          "text": [
            "/usr/local/lib/python3.7/dist-packages/seaborn/_decorators.py:43: FutureWarning: Pass the following variable as a keyword arg: x. From version 0.12, the only valid positional argument will be `data`, and passing other arguments without an explicit keyword will result in an error or misinterpretation.\n",
            "  FutureWarning\n"
          ]
        },
        {
          "data": {
            "text/plain": [
              "<matplotlib.axes._subplots.AxesSubplot at 0x7fe25d5ac250>"
            ]
          },
          "execution_count": 264,
          "metadata": {},
          "output_type": "execute_result"
        },
        {
          "data": {
            "image/png": "[encoded data removed]",
            "text/plain": [
              "<Figure size 432x288 with 1 Axes>"
            ]
          },
          "metadata": {
            "needs_background": "light"
          },
          "output_type": "display_data"
        }
      ],
      "source": [
        "sns.boxplot(entrada['mudancas_nodulos'])"
      ]
    },
    {
      "cell_type": "code",
      "execution_count": null,
      "metadata": {
        "colab": {
          "base_uri": "https://localhost:8080/"
        },
        "id": "uUMc4PRYmkcb",
        "outputId": "62b9e1d7-4367-48b9-ebcf-140c6c9e436b"
      },
      "outputs": [
        {
          "name": "stderr",
          "output_type": "stream",
          "text": [
            "/usr/local/lib/python3.7/dist-packages/seaborn/_decorators.py:43: FutureWarning: Pass the following variable as a keyword arg: x. From version 0.12, the only valid positional argument will be `data`, and passing other arguments without an explicit keyword will result in an error or misinterpretation.\n",
            "  FutureWarning\n"
          ]
        },
        {
          "data": {
            "text/plain": [
              "<matplotlib.axes._subplots.AxesSubplot at 0x7fe25d590990>"
            ]
          },
          "execution_count": 265,
          "metadata": {},
          "output_type": "execute_result"
        },
        {
          "data": {
            "image/png": "[encoded data removed]",
            "text/plain": [
              "<Figure size 432x288 with 1 Axes>"
            ]
          },
          "metadata": {
            "needs_background": "light"
          },
          "output_type": "display_data"
        }
      ],
      "source": [
        "sns.boxplot(entrada['mudancas_estruturas'])"
      ]
    },
    {
      "cell_type": "code",
      "execution_count": null,
      "metadata": {
        "colab": {
          "base_uri": "https://localhost:8080/"
        },
        "id": "QyqCb1sxmn_i",
        "outputId": "7efad771-a192-4fff-907d-acaa0b4ff8cd"
      },
      "outputs": [
        {
          "name": "stderr",
          "output_type": "stream",
          "text": [
            "/usr/local/lib/python3.7/dist-packages/seaborn/_decorators.py:43: FutureWarning: Pass the following variable as a keyword arg: x. From version 0.12, the only valid positional argument will be `data`, and passing other arguments without an explicit keyword will result in an error or misinterpretation.\n",
            "  FutureWarning\n"
          ]
        },
        {
          "data": {
            "text/plain": [
              "<matplotlib.axes._subplots.AxesSubplot at 0x7fe25d4f2ed0>"
            ]
          },
          "execution_count": 266,
          "metadata": {},
          "output_type": "execute_result"
        },
        {
          "data": {
            "image/png": "[encoded data removed]",
            "text/plain": [
              "<Figure size 432x288 with 1 Axes>"
            ]
          },
          "metadata": {
            "needs_background": "light"
          },
          "output_type": "display_data"
        }
      ],
      "source": [
        "sns.boxplot(entrada['formas_especiais'])"
      ]
    },
    {
      "cell_type": "code",
      "execution_count": null,
      "metadata": {
        "colab": {
          "base_uri": "https://localhost:8080/"
        },
        "id": "njLCc224mqp8",
        "outputId": "5e5a38e9-d911-410d-a97c-7d7158c1e26e"
      },
      "outputs": [
        {
          "name": "stderr",
          "output_type": "stream",
          "text": [
            "/usr/local/lib/python3.7/dist-packages/seaborn/_decorators.py:43: FutureWarning: Pass the following variable as a keyword arg: x. From version 0.12, the only valid positional argument will be `data`, and passing other arguments without an explicit keyword will result in an error or misinterpretation.\n",
            "  FutureWarning\n"
          ]
        },
        {
          "data": {
            "text/plain": [
              "<matplotlib.axes._subplots.AxesSubplot at 0x7fe25e41de10>"
            ]
          },
          "execution_count": 267,
          "metadata": {},
          "output_type": "execute_result"
        },
        {
          "data": {
            "image/png": "[encoded data removed]",
            "text/plain": [
              "<Figure size 432x288 with 1 Axes>"
            ]
          },
          "metadata": {
            "needs_background": "light"
          },
          "output_type": "display_data"
        }
      ],
      "source": [
        "sns.boxplot(entrada['deslocamento'])"
      ]
    },
    {
      "cell_type": "code",
      "execution_count": null,
      "metadata": {
        "colab": {
          "base_uri": "https://localhost:8080/"
        },
        "id": "wePi7T_0ms6B",
        "outputId": "9a6ebf94-0a22-407a-aab6-c42be065ad20"
      },
      "outputs": [
        {
          "name": "stderr",
          "output_type": "stream",
          "text": [
            "/usr/local/lib/python3.7/dist-packages/seaborn/_decorators.py:43: FutureWarning: Pass the following variable as a keyword arg: x. From version 0.12, the only valid positional argument will be `data`, and passing other arguments without an explicit keyword will result in an error or misinterpretation.\n",
            "  FutureWarning\n"
          ]
        },
        {
          "data": {
            "text/plain": [
              "<matplotlib.axes._subplots.AxesSubplot at 0x7fe25e1666d0>"
            ]
          },
          "execution_count": 268,
          "metadata": {},
          "output_type": "execute_result"
        },
        {
          "data": {
            "image/png": "[encoded data removed]",
            "text/plain": [
              "<Figure size 432x288 with 1 Axes>"
            ]
          },
          "metadata": {
            "needs_background": "light"
          },
          "output_type": "display_data"
        }
      ],
      "source": [
        "sns.boxplot(entrada['exclusao_nodulos'])"
      ]
    },
    {
      "cell_type": "code",
      "execution_count": null,
      "metadata": {
        "colab": {
          "base_uri": "https://localhost:8080/"
        },
        "id": "1qph8HKCm6eI",
        "outputId": "dd6c70c3-8893-4c22-bdfc-a93eb5f3c361"
      },
      "outputs": [
        {
          "name": "stderr",
          "output_type": "stream",
          "text": [
            "/usr/local/lib/python3.7/dist-packages/seaborn/_decorators.py:43: FutureWarning: Pass the following variable as a keyword arg: x. From version 0.12, the only valid positional argument will be `data`, and passing other arguments without an explicit keyword will result in an error or misinterpretation.\n",
            "  FutureWarning\n"
          ]
        },
        {
          "data": {
            "text/plain": [
              "<matplotlib.axes._subplots.AxesSubplot at 0x7fe25d4434d0>"
            ]
          },
          "execution_count": 269,
          "metadata": {},
          "output_type": "execute_result"
        },
        {
          "data": {
            "image/png": "[encoded data removed]",
            "text/plain": [
              "<Figure size 432x288 with 1 Axes>"
            ]
          },
          "metadata": {
            "needs_background": "light"
          },
          "output_type": "display_data"
        }
      ],
      "source": [
        "sns.boxplot(entrada['qtd_nodulos'])"
      ]
    },
    {
      "cell_type": "markdown",
      "metadata": {
        "id": "pqTpDb7VFf-m"
      },
      "source": [
        "# Definição de treino e teste"
      ]
    },
    {
      "cell_type": "markdown",
      "metadata": {
        "id": "KBl09An7Rqe0"
      },
      "source": [
        "#### Definindo conjunto de treino"
      ]
    },
    {
      "cell_type": "markdown",
      "metadata": {
        "id": "ZyqMpfo7JjZz"
      },
      "source": [
        "Para os casos de teste serão selecionados 70% de cada classe, desta forma teremos: \n",
        "* Classe 2: 56\n",
        "* Classe 3: 42"
      ]
    },
    {
      "cell_type": "markdown",
      "metadata": {
        "id": "g4gR19BWDKeT"
      },
      "source": [
        "Na linha seguinte, fiz um filtro igual ao utilizado para excluir dados solicitados."
      ]
    },
    {
      "cell_type": "code",
      "execution_count": 13,
      "metadata": {
        "id": "a3M5lMTdFkXb"
      },
      "outputs": [],
      "source": [
        "filtro3 = data[data['classe'] == 2].index\n",
        "filtro4 = data[data['classe'] == 3].index"
      ]
    },
    {
      "cell_type": "markdown",
      "metadata": {
        "id": "j4ZZI1tWDTMq"
      },
      "source": [
        "Importação da biblioteca necessária para buscar dados aleatórios na base e criação de novos dataframes"
      ]
    },
    {
      "cell_type": "code",
      "execution_count": 14,
      "metadata": {
        "id": "hUi7hI__GzBf"
      },
      "outputs": [],
      "source": [
        "import random\n",
        "\n",
        "classe2 = data.loc[filtro3] #somente dados de classe 2\n",
        "classe3 = data.loc[filtro4] #somente dados de classe 3"
      ]
    },
    {
      "cell_type": "markdown",
      "metadata": {
        "id": "GwBN9Zn6DDf6"
      },
      "source": [
        "Selecionando dados aleatórios de dentro do dataset que contém apenas itens de classe 2"
      ]
    },
    {
      "cell_type": "code",
      "execution_count": 15,
      "metadata": {
        "id": "uAcQt8UCDIha"
      },
      "outputs": [],
      "source": [
        "treino_c2 = classe2.sample(56)"
      ]
    },
    {
      "cell_type": "markdown",
      "metadata": {
        "id": "fC26yQfMKFk8"
      },
      "source": [
        "Para confirmar se ocorreu bem:"
      ]
    },
    {
      "cell_type": "code",
      "execution_count": 16,
      "metadata": {
        "colab": {
          "base_uri": "https://localhost:8080/"
        },
        "id": "Y67jLgsBKICO",
        "outputId": "5f4ddd60-a00a-4147-d992-2a22f0db747b"
      },
      "outputs": [
        {
          "data": {
            "text/plain": [
              "2    56\n",
              "Name: classe, dtype: int64"
            ]
          },
          "execution_count": 16,
          "metadata": {},
          "output_type": "execute_result"
        }
      ],
      "source": [
        "treino_c2['classe'].value_counts()"
      ]
    },
    {
      "cell_type": "markdown",
      "metadata": {
        "id": "Fd42q3yxEFzN"
      },
      "source": [
        "Repetindo para a classe 3"
      ]
    },
    {
      "cell_type": "code",
      "execution_count": 17,
      "metadata": {
        "id": "pCRp6ikXJT1J"
      },
      "outputs": [],
      "source": [
        "treino_c3 = classe3.sample(42)"
      ]
    },
    {
      "cell_type": "markdown",
      "metadata": {
        "id": "zt_liEW1KPBv"
      },
      "source": [
        "Confirmando se ocorreu bem:"
      ]
    },
    {
      "cell_type": "code",
      "execution_count": 18,
      "metadata": {
        "colab": {
          "base_uri": "https://localhost:8080/"
        },
        "id": "n90mkmUvKSCF",
        "outputId": "22c2bdfb-fca5-4763-99dc-8083aed4d61f"
      },
      "outputs": [
        {
          "data": {
            "text/plain": [
              "3    42\n",
              "Name: classe, dtype: int64"
            ]
          },
          "execution_count": 18,
          "metadata": {},
          "output_type": "execute_result"
        }
      ],
      "source": [
        "treino_c3['classe'].value_counts()"
      ]
    },
    {
      "cell_type": "markdown",
      "metadata": {
        "id": "UxWCZXBAQgS6"
      },
      "source": [
        "Concatenando em um único dataframe:"
      ]
    },
    {
      "cell_type": "code",
      "execution_count": 19,
      "metadata": {
        "colab": {
          "base_uri": "https://localhost:8080/"
        },
        "id": "TNQl4ZdkQzVA",
        "outputId": "c2626e03-63b9-4d6c-f9b3-9fb143bdbd21"
      },
      "outputs": [
        {
          "data": {
            "text/plain": [
              "(98, 19)"
            ]
          },
          "execution_count": 19,
          "metadata": {},
          "output_type": "execute_result"
        }
      ],
      "source": [
        "treino = pd.concat([treino_c3, treino_c2])\n",
        "treino.shape"
      ]
    },
    {
      "cell_type": "markdown",
      "metadata": {
        "id": "PWVCOyrJWbAc"
      },
      "source": [
        "Retirando o atributo de saída e armazenando em `treino_y`. Os atributos de entrada serão armazenados em `treino_x`"
      ]
    },
    {
      "cell_type": "code",
      "execution_count": 20,
      "metadata": {
        "colab": {
          "base_uri": "https://localhost:8080/"
        },
        "id": "n2IQ6ivANY9z",
        "outputId": "d3730ec0-8e3f-445b-e437-c9587a9b21d4"
      },
      "outputs": [
        {
          "data": {
            "text/plain": [
              "(98, 18)"
            ]
          },
          "execution_count": 20,
          "metadata": {},
          "output_type": "execute_result"
        }
      ],
      "source": [
        "treino_x = treino.loc[:, treino.columns != 'classe']\n",
        "treino_y = treino['classe']\n",
        "\n",
        "treino_x.shape"
      ]
    },
    {
      "cell_type": "markdown",
      "metadata": {
        "id": "pKkB9NBvRl3Y"
      },
      "source": [
        "#### Definindo conjunto de teste"
      ]
    },
    {
      "cell_type": "markdown",
      "metadata": {
        "id": "J6Vd7k-bFoLV"
      },
      "source": [
        "Para os casos de teste, serão selecionados 30% de cada classe. Assim, pegaremos 18 dados da classe 2; e 16 da classe 3.\n",
        "Utilizei método semelhante à exclusão das duas classes anteriores: através do método `drop`, retirei da base original as entradas já selecionadas para o conjunto de treinamento"
      ]
    },
    {
      "cell_type": "code",
      "execution_count": 21,
      "metadata": {
        "colab": {
          "base_uri": "https://localhost:8080/"
        },
        "id": "DYEB1o3mK59c",
        "outputId": "ead5248d-9564-45d8-ea00-40b7d4e5aeff"
      },
      "outputs": [
        {
          "data": {
            "text/plain": [
              "(44, 19)"
            ]
          },
          "execution_count": 21,
          "metadata": {},
          "output_type": "execute_result"
        }
      ],
      "source": [
        "teste = data.drop(treino.index)\n",
        "teste.shape"
      ]
    },
    {
      "cell_type": "markdown",
      "metadata": {
        "id": "SV-1lS-bMYQy"
      },
      "source": [
        "Verificando se obtive sucesso"
      ]
    },
    {
      "cell_type": "code",
      "execution_count": 22,
      "metadata": {
        "colab": {
          "base_uri": "https://localhost:8080/"
        },
        "id": "Ejrn6k8OMbHg",
        "outputId": "759812de-5918-4aeb-f018-c550e0b4e6fb"
      },
      "outputs": [
        {
          "data": {
            "text/plain": [
              "2    25\n",
              "3    19\n",
              "Name: classe, dtype: int64"
            ]
          },
          "execution_count": 22,
          "metadata": {},
          "output_type": "execute_result"
        }
      ],
      "source": [
        "teste['classe'].value_counts()"
      ]
    },
    {
      "cell_type": "markdown",
      "metadata": {
        "id": "W0UW6LCUMdLw"
      },
      "source": [
        "Novamente removendo o atributo de saída `teste_y`"
      ]
    },
    {
      "cell_type": "code",
      "execution_count": 23,
      "metadata": {
        "id": "xj_Ov9JXNpYK"
      },
      "outputs": [],
      "source": [
        "teste_x = teste.loc[:, teste.columns != 'classe']\n",
        "teste_y = teste['classe']"
      ]
    },
    {
      "cell_type": "markdown",
      "metadata": {
        "id": "_drKhWaraw4m"
      },
      "source": [
        "# Redução de Dimensionalidade com PCA"
      ]
    },
    {
      "cell_type": "markdown",
      "metadata": {
        "id": "OLKev2W2O5Nw"
      },
      "source": [
        "Para esta base de dados, todos os atributos são importantes, tendo em vista que seu objetivo é o diagnóstico do tipo de câncer do paciente. Entretanto, para fins didáticos, ferei a redução"
      ]
    },
    {
      "cell_type": "code",
      "execution_count": 24,
      "metadata": {
        "id": "A4g8P5wzVNSC"
      },
      "outputs": [],
      "source": [
        "from sklearn import decomposition\n",
        "from sklearn.linear_model import LogisticRegression\n",
        "\n",
        "pca = decomposition.PCA(n_components=5)\n",
        "treino_x = pca.fit_transform(treino_x)\n",
        "teste_x = pca.transform(teste_x)"
      ]
    },
    {
      "cell_type": "code",
      "execution_count": 25,
      "metadata": {
        "colab": {
          "base_uri": "https://localhost:8080/"
        },
        "id": "ExAytxa2Y9sz",
        "outputId": "83c5407e-f123-4b20-9abc-e82ce26fcf89"
      },
      "outputs": [
        {
          "data": {
            "text/plain": [
              "array([0.41, 0.28, 0.07, 0.05, 0.03])"
            ]
          },
          "execution_count": 25,
          "metadata": {},
          "output_type": "execute_result"
        }
      ],
      "source": [
        "np.round(pca.explained_variance_ratio_,2)"
      ]
    },
    {
      "cell_type": "markdown",
      "metadata": {
        "id": "ByBga5HaltAQ"
      },
      "source": [
        "Com 5 componentes conseguimos explicar cerca de 81% dos dados."
      ]
    },
    {
      "cell_type": "code",
      "execution_count": 26,
      "metadata": {
        "id": "vpwvS4ukl614"
      },
      "outputs": [],
      "source": [
        "treino_df = pd.DataFrame(data = treino_x,\n",
        "                       columns = ['Principal Componente 1', 'Principal Componente 2',\n",
        "                                  'Principal Componente 3', 'Principal Componente 4',\n",
        "                                  'Principal Componente 5'])"
      ]
    },
    {
      "cell_type": "code",
      "execution_count": 27,
      "metadata": {
        "colab": {
          "base_uri": "https://localhost:8080/",
          "height": 424
        },
        "id": "BYvWBvrRpZn6",
        "outputId": "bd8a41ad-35cc-4908-9f3d-084d3cca4d9b"
      },
      "outputs": [
        {
          "data": {
            "text/html": [
              "<div>\n",
              "<style scoped>\n",
              "    .dataframe tbody tr th:only-of-type {\n",
              "        vertical-align: middle;\n",
              "    }\n",
              "\n",
              "    .dataframe tbody tr th {\n",
              "        vertical-align: top;\n",
              "    }\n",
              "\n",
              "    .dataframe thead th {\n",
              "        text-align: right;\n",
              "    }\n",
              "</style>\n",
              "<table border=\"1\" class=\"dataframe\">\n",
              "  <thead>\n",
              "    <tr style=\"text-align: right;\">\n",
              "      <th></th>\n",
              "      <th>Principal Componente 1</th>\n",
              "      <th>Principal Componente 2</th>\n",
              "      <th>Principal Componente 3</th>\n",
              "      <th>Principal Componente 4</th>\n",
              "      <th>Principal Componente 5</th>\n",
              "    </tr>\n",
              "  </thead>\n",
              "  <tbody>\n",
              "    <tr>\n",
              "      <th>0</th>\n",
              "      <td>1.572665</td>\n",
              "      <td>-2.316329</td>\n",
              "      <td>0.886401</td>\n",
              "      <td>0.564871</td>\n",
              "      <td>-0.604042</td>\n",
              "    </tr>\n",
              "    <tr>\n",
              "      <th>1</th>\n",
              "      <td>0.482075</td>\n",
              "      <td>2.741649</td>\n",
              "      <td>0.148930</td>\n",
              "      <td>-1.016665</td>\n",
              "      <td>0.001373</td>\n",
              "    </tr>\n",
              "    <tr>\n",
              "      <th>2</th>\n",
              "      <td>-3.056751</td>\n",
              "      <td>-0.258704</td>\n",
              "      <td>0.833083</td>\n",
              "      <td>-0.168163</td>\n",
              "      <td>-0.520994</td>\n",
              "    </tr>\n",
              "    <tr>\n",
              "      <th>3</th>\n",
              "      <td>4.742598</td>\n",
              "      <td>2.097332</td>\n",
              "      <td>3.265238</td>\n",
              "      <td>0.921111</td>\n",
              "      <td>0.252955</td>\n",
              "    </tr>\n",
              "    <tr>\n",
              "      <th>4</th>\n",
              "      <td>-1.327513</td>\n",
              "      <td>0.348292</td>\n",
              "      <td>0.487269</td>\n",
              "      <td>-0.337779</td>\n",
              "      <td>-0.683880</td>\n",
              "    </tr>\n",
              "    <tr>\n",
              "      <th>...</th>\n",
              "      <td>...</td>\n",
              "      <td>...</td>\n",
              "      <td>...</td>\n",
              "      <td>...</td>\n",
              "      <td>...</td>\n",
              "    </tr>\n",
              "    <tr>\n",
              "      <th>93</th>\n",
              "      <td>1.343539</td>\n",
              "      <td>-2.836605</td>\n",
              "      <td>-0.713319</td>\n",
              "      <td>-1.069281</td>\n",
              "      <td>0.220508</td>\n",
              "    </tr>\n",
              "    <tr>\n",
              "      <th>94</th>\n",
              "      <td>-1.323527</td>\n",
              "      <td>0.457685</td>\n",
              "      <td>-0.654663</td>\n",
              "      <td>0.106846</td>\n",
              "      <td>-0.377815</td>\n",
              "    </tr>\n",
              "    <tr>\n",
              "      <th>95</th>\n",
              "      <td>1.408133</td>\n",
              "      <td>0.716550</td>\n",
              "      <td>0.604993</td>\n",
              "      <td>-0.614444</td>\n",
              "      <td>-0.510506</td>\n",
              "    </tr>\n",
              "    <tr>\n",
              "      <th>96</th>\n",
              "      <td>-1.318530</td>\n",
              "      <td>-1.172459</td>\n",
              "      <td>-0.337306</td>\n",
              "      <td>0.350711</td>\n",
              "      <td>-0.136574</td>\n",
              "    </tr>\n",
              "    <tr>\n",
              "      <th>97</th>\n",
              "      <td>-1.890776</td>\n",
              "      <td>-0.149825</td>\n",
              "      <td>-1.353737</td>\n",
              "      <td>0.927605</td>\n",
              "      <td>0.391537</td>\n",
              "    </tr>\n",
              "  </tbody>\n",
              "</table>\n",
              "<p>98 rows × 5 columns</p>\n",
              "</div>"
            ],
            "text/plain": [
              "    Principal Componente 1  Principal Componente 2  Principal Componente 3  \\\n",
              "0                 1.572665               -2.316329                0.886401   \n",
              "1                 0.482075                2.741649                0.148930   \n",
              "2                -3.056751               -0.258704                0.833083   \n",
              "3                 4.742598                2.097332                3.265238   \n",
              "4                -1.327513                0.348292                0.487269   \n",
              "..                     ...                     ...                     ...   \n",
              "93                1.343539               -2.836605               -0.713319   \n",
              "94               -1.323527                0.457685               -0.654663   \n",
              "95                1.408133                0.716550                0.604993   \n",
              "96               -1.318530               -1.172459               -0.337306   \n",
              "97               -1.890776               -0.149825               -1.353737   \n",
              "\n",
              "    Principal Componente 4  Principal Componente 5  \n",
              "0                 0.564871               -0.604042  \n",
              "1                -1.016665                0.001373  \n",
              "2                -0.168163               -0.520994  \n",
              "3                 0.921111                0.252955  \n",
              "4                -0.337779               -0.683880  \n",
              "..                     ...                     ...  \n",
              "93               -1.069281                0.220508  \n",
              "94                0.106846               -0.377815  \n",
              "95               -0.614444               -0.510506  \n",
              "96                0.350711               -0.136574  \n",
              "97                0.927605                0.391537  \n",
              "\n",
              "[98 rows x 5 columns]"
            ]
          },
          "execution_count": 27,
          "metadata": {},
          "output_type": "execute_result"
        }
      ],
      "source": [
        "treino_df"
      ]
    },
    {
      "cell_type": "code",
      "execution_count": 28,
      "metadata": {
        "colab": {
          "base_uri": "https://localhost:8080/"
        },
        "id": "cywJl_0mqvgL",
        "outputId": "f99865d0-3962-485f-8264-d889e834dcae"
      },
      "outputs": [
        {
          "data": {
            "text/plain": [
              "(44, 5)"
            ]
          },
          "execution_count": 28,
          "metadata": {},
          "output_type": "execute_result"
        }
      ],
      "source": [
        "teste_x.shape"
      ]
    },
    {
      "cell_type": "code",
      "execution_count": 29,
      "metadata": {
        "id": "x-Apfgvtq5Hz"
      },
      "outputs": [],
      "source": [
        "teste_df = pd.DataFrame(data = teste_x,\n",
        "                       columns = ['Principal Componente 1', 'Principal Componente 2',\n",
        "                                  'Principal Componente 3', 'Principal Componente 4',\n",
        "                                  'Principal Componente 5'])"
      ]
    },
    {
      "cell_type": "code",
      "execution_count": 30,
      "metadata": {
        "colab": {
          "base_uri": "https://localhost:8080/",
          "height": 1000
        },
        "id": "W3QXG2cNrAgL",
        "outputId": "f62842a9-a42d-4c6e-c967-6dede87bed7c"
      },
      "outputs": [
        {
          "data": {
            "text/html": [
              "<div>\n",
              "<style scoped>\n",
              "    .dataframe tbody tr th:only-of-type {\n",
              "        vertical-align: middle;\n",
              "    }\n",
              "\n",
              "    .dataframe tbody tr th {\n",
              "        vertical-align: top;\n",
              "    }\n",
              "\n",
              "    .dataframe thead th {\n",
              "        text-align: right;\n",
              "    }\n",
              "</style>\n",
              "<table border=\"1\" class=\"dataframe\">\n",
              "  <thead>\n",
              "    <tr style=\"text-align: right;\">\n",
              "      <th></th>\n",
              "      <th>Principal Componente 1</th>\n",
              "      <th>Principal Componente 2</th>\n",
              "      <th>Principal Componente 3</th>\n",
              "      <th>Principal Componente 4</th>\n",
              "      <th>Principal Componente 5</th>\n",
              "    </tr>\n",
              "  </thead>\n",
              "  <tbody>\n",
              "    <tr>\n",
              "      <th>0</th>\n",
              "      <td>-1.447845</td>\n",
              "      <td>0.471363</td>\n",
              "      <td>-0.159853</td>\n",
              "      <td>0.636695</td>\n",
              "      <td>-0.606605</td>\n",
              "    </tr>\n",
              "    <tr>\n",
              "      <th>1</th>\n",
              "      <td>3.402017</td>\n",
              "      <td>0.118370</td>\n",
              "      <td>1.780920</td>\n",
              "      <td>0.013785</td>\n",
              "      <td>-0.496805</td>\n",
              "    </tr>\n",
              "    <tr>\n",
              "      <th>2</th>\n",
              "      <td>-0.689171</td>\n",
              "      <td>-0.512065</td>\n",
              "      <td>0.570482</td>\n",
              "      <td>-0.487418</td>\n",
              "      <td>-0.372890</td>\n",
              "    </tr>\n",
              "    <tr>\n",
              "      <th>3</th>\n",
              "      <td>1.287381</td>\n",
              "      <td>-0.849229</td>\n",
              "      <td>-0.998099</td>\n",
              "      <td>1.682068</td>\n",
              "      <td>-0.239907</td>\n",
              "    </tr>\n",
              "    <tr>\n",
              "      <th>4</th>\n",
              "      <td>-0.587241</td>\n",
              "      <td>-0.283802</td>\n",
              "      <td>-0.172655</td>\n",
              "      <td>-0.703311</td>\n",
              "      <td>-0.774602</td>\n",
              "    </tr>\n",
              "    <tr>\n",
              "      <th>5</th>\n",
              "      <td>-0.899572</td>\n",
              "      <td>-0.650256</td>\n",
              "      <td>0.921369</td>\n",
              "      <td>0.073295</td>\n",
              "      <td>-0.837364</td>\n",
              "    </tr>\n",
              "    <tr>\n",
              "      <th>6</th>\n",
              "      <td>-1.614811</td>\n",
              "      <td>-1.564026</td>\n",
              "      <td>1.095757</td>\n",
              "      <td>0.916541</td>\n",
              "      <td>0.285117</td>\n",
              "    </tr>\n",
              "    <tr>\n",
              "      <th>7</th>\n",
              "      <td>1.966442</td>\n",
              "      <td>-1.816615</td>\n",
              "      <td>-0.546387</td>\n",
              "      <td>0.293329</td>\n",
              "      <td>0.250735</td>\n",
              "    </tr>\n",
              "    <tr>\n",
              "      <th>8</th>\n",
              "      <td>-2.969268</td>\n",
              "      <td>-0.000563</td>\n",
              "      <td>0.025086</td>\n",
              "      <td>1.509065</td>\n",
              "      <td>0.291029</td>\n",
              "    </tr>\n",
              "    <tr>\n",
              "      <th>9</th>\n",
              "      <td>-1.141226</td>\n",
              "      <td>0.838010</td>\n",
              "      <td>-1.915515</td>\n",
              "      <td>0.273710</td>\n",
              "      <td>0.353846</td>\n",
              "    </tr>\n",
              "    <tr>\n",
              "      <th>10</th>\n",
              "      <td>1.999465</td>\n",
              "      <td>-1.758490</td>\n",
              "      <td>-0.669815</td>\n",
              "      <td>-0.395943</td>\n",
              "      <td>-1.352401</td>\n",
              "    </tr>\n",
              "    <tr>\n",
              "      <th>11</th>\n",
              "      <td>0.974278</td>\n",
              "      <td>-3.156465</td>\n",
              "      <td>-0.234716</td>\n",
              "      <td>0.718689</td>\n",
              "      <td>1.815140</td>\n",
              "    </tr>\n",
              "    <tr>\n",
              "      <th>12</th>\n",
              "      <td>-0.770159</td>\n",
              "      <td>-0.384879</td>\n",
              "      <td>-0.276062</td>\n",
              "      <td>0.291321</td>\n",
              "      <td>-0.468804</td>\n",
              "    </tr>\n",
              "    <tr>\n",
              "      <th>13</th>\n",
              "      <td>2.268482</td>\n",
              "      <td>-1.225120</td>\n",
              "      <td>0.226713</td>\n",
              "      <td>1.222218</td>\n",
              "      <td>-1.301244</td>\n",
              "    </tr>\n",
              "    <tr>\n",
              "      <th>14</th>\n",
              "      <td>-1.196009</td>\n",
              "      <td>-1.207820</td>\n",
              "      <td>-0.494299</td>\n",
              "      <td>-0.150152</td>\n",
              "      <td>0.742144</td>\n",
              "    </tr>\n",
              "    <tr>\n",
              "      <th>15</th>\n",
              "      <td>-2.097824</td>\n",
              "      <td>-0.675366</td>\n",
              "      <td>-0.143652</td>\n",
              "      <td>-0.457730</td>\n",
              "      <td>-0.718812</td>\n",
              "    </tr>\n",
              "    <tr>\n",
              "      <th>16</th>\n",
              "      <td>-1.299692</td>\n",
              "      <td>-1.373102</td>\n",
              "      <td>0.154886</td>\n",
              "      <td>-0.436605</td>\n",
              "      <td>-0.117388</td>\n",
              "    </tr>\n",
              "    <tr>\n",
              "      <th>17</th>\n",
              "      <td>-0.747342</td>\n",
              "      <td>1.311532</td>\n",
              "      <td>-1.055212</td>\n",
              "      <td>-0.356475</td>\n",
              "      <td>0.123959</td>\n",
              "    </tr>\n",
              "    <tr>\n",
              "      <th>18</th>\n",
              "      <td>-1.786084</td>\n",
              "      <td>-0.152371</td>\n",
              "      <td>-1.172293</td>\n",
              "      <td>-0.066734</td>\n",
              "      <td>-0.335990</td>\n",
              "    </tr>\n",
              "    <tr>\n",
              "      <th>19</th>\n",
              "      <td>-1.031596</td>\n",
              "      <td>-0.836775</td>\n",
              "      <td>1.547883</td>\n",
              "      <td>0.778124</td>\n",
              "      <td>0.781303</td>\n",
              "    </tr>\n",
              "    <tr>\n",
              "      <th>20</th>\n",
              "      <td>0.287132</td>\n",
              "      <td>0.980506</td>\n",
              "      <td>-0.822421</td>\n",
              "      <td>0.192993</td>\n",
              "      <td>-0.346778</td>\n",
              "    </tr>\n",
              "    <tr>\n",
              "      <th>21</th>\n",
              "      <td>2.549060</td>\n",
              "      <td>-0.808576</td>\n",
              "      <td>-1.496667</td>\n",
              "      <td>0.774846</td>\n",
              "      <td>0.388158</td>\n",
              "    </tr>\n",
              "    <tr>\n",
              "      <th>22</th>\n",
              "      <td>2.026528</td>\n",
              "      <td>-1.721639</td>\n",
              "      <td>-0.899666</td>\n",
              "      <td>-0.301431</td>\n",
              "      <td>-1.328720</td>\n",
              "    </tr>\n",
              "    <tr>\n",
              "      <th>23</th>\n",
              "      <td>3.474985</td>\n",
              "      <td>0.165375</td>\n",
              "      <td>1.888847</td>\n",
              "      <td>-0.099338</td>\n",
              "      <td>0.088085</td>\n",
              "    </tr>\n",
              "    <tr>\n",
              "      <th>24</th>\n",
              "      <td>-2.710235</td>\n",
              "      <td>0.424266</td>\n",
              "      <td>1.195770</td>\n",
              "      <td>1.291093</td>\n",
              "      <td>1.177202</td>\n",
              "    </tr>\n",
              "    <tr>\n",
              "      <th>25</th>\n",
              "      <td>-3.091595</td>\n",
              "      <td>-0.198376</td>\n",
              "      <td>0.442202</td>\n",
              "      <td>-0.089136</td>\n",
              "      <td>-1.349410</td>\n",
              "    </tr>\n",
              "    <tr>\n",
              "      <th>26</th>\n",
              "      <td>-3.252956</td>\n",
              "      <td>-0.621308</td>\n",
              "      <td>1.541324</td>\n",
              "      <td>0.041749</td>\n",
              "      <td>0.099202</td>\n",
              "    </tr>\n",
              "    <tr>\n",
              "      <th>27</th>\n",
              "      <td>-1.536819</td>\n",
              "      <td>-1.480391</td>\n",
              "      <td>0.188090</td>\n",
              "      <td>0.614173</td>\n",
              "      <td>0.215463</td>\n",
              "    </tr>\n",
              "    <tr>\n",
              "      <th>28</th>\n",
              "      <td>-3.035787</td>\n",
              "      <td>1.292992</td>\n",
              "      <td>0.277758</td>\n",
              "      <td>-0.794181</td>\n",
              "      <td>-0.307494</td>\n",
              "    </tr>\n",
              "    <tr>\n",
              "      <th>29</th>\n",
              "      <td>-2.670903</td>\n",
              "      <td>2.030140</td>\n",
              "      <td>-0.174006</td>\n",
              "      <td>-0.262925</td>\n",
              "      <td>0.851950</td>\n",
              "    </tr>\n",
              "    <tr>\n",
              "      <th>30</th>\n",
              "      <td>-1.480976</td>\n",
              "      <td>0.354874</td>\n",
              "      <td>0.339834</td>\n",
              "      <td>1.163267</td>\n",
              "      <td>0.892321</td>\n",
              "    </tr>\n",
              "    <tr>\n",
              "      <th>31</th>\n",
              "      <td>2.972838</td>\n",
              "      <td>1.118920</td>\n",
              "      <td>0.053347</td>\n",
              "      <td>-1.298771</td>\n",
              "      <td>0.340180</td>\n",
              "    </tr>\n",
              "    <tr>\n",
              "      <th>32</th>\n",
              "      <td>-2.275125</td>\n",
              "      <td>-0.790390</td>\n",
              "      <td>-0.418523</td>\n",
              "      <td>-0.355788</td>\n",
              "      <td>0.781870</td>\n",
              "    </tr>\n",
              "    <tr>\n",
              "      <th>33</th>\n",
              "      <td>-0.206587</td>\n",
              "      <td>3.797143</td>\n",
              "      <td>-0.958292</td>\n",
              "      <td>0.051735</td>\n",
              "      <td>0.987734</td>\n",
              "    </tr>\n",
              "    <tr>\n",
              "      <th>34</th>\n",
              "      <td>0.800504</td>\n",
              "      <td>-3.456657</td>\n",
              "      <td>1.604940</td>\n",
              "      <td>0.295527</td>\n",
              "      <td>0.181699</td>\n",
              "    </tr>\n",
              "    <tr>\n",
              "      <th>35</th>\n",
              "      <td>1.580601</td>\n",
              "      <td>-2.396182</td>\n",
              "      <td>1.402200</td>\n",
              "      <td>0.044021</td>\n",
              "      <td>-0.085091</td>\n",
              "    </tr>\n",
              "    <tr>\n",
              "      <th>36</th>\n",
              "      <td>-3.484700</td>\n",
              "      <td>0.758919</td>\n",
              "      <td>-1.055426</td>\n",
              "      <td>-0.293922</td>\n",
              "      <td>0.221322</td>\n",
              "    </tr>\n",
              "    <tr>\n",
              "      <th>37</th>\n",
              "      <td>-2.835734</td>\n",
              "      <td>0.243305</td>\n",
              "      <td>-0.387518</td>\n",
              "      <td>1.676481</td>\n",
              "      <td>0.068865</td>\n",
              "    </tr>\n",
              "    <tr>\n",
              "      <th>38</th>\n",
              "      <td>0.190379</td>\n",
              "      <td>2.486382</td>\n",
              "      <td>1.843781</td>\n",
              "      <td>-0.443413</td>\n",
              "      <td>-0.134495</td>\n",
              "    </tr>\n",
              "    <tr>\n",
              "      <th>39</th>\n",
              "      <td>0.168547</td>\n",
              "      <td>0.933662</td>\n",
              "      <td>-1.278683</td>\n",
              "      <td>0.149055</td>\n",
              "      <td>0.863205</td>\n",
              "    </tr>\n",
              "    <tr>\n",
              "      <th>40</th>\n",
              "      <td>1.441499</td>\n",
              "      <td>4.350562</td>\n",
              "      <td>1.687170</td>\n",
              "      <td>0.263425</td>\n",
              "      <td>0.587477</td>\n",
              "    </tr>\n",
              "    <tr>\n",
              "      <th>41</th>\n",
              "      <td>1.335866</td>\n",
              "      <td>4.279984</td>\n",
              "      <td>0.831719</td>\n",
              "      <td>0.170557</td>\n",
              "      <td>-0.568539</td>\n",
              "    </tr>\n",
              "    <tr>\n",
              "      <th>42</th>\n",
              "      <td>1.827755</td>\n",
              "      <td>-2.189788</td>\n",
              "      <td>-0.203238</td>\n",
              "      <td>-0.481208</td>\n",
              "      <td>-0.186014</td>\n",
              "    </tr>\n",
              "    <tr>\n",
              "      <th>43</th>\n",
              "      <td>-3.418918</td>\n",
              "      <td>-0.911331</td>\n",
              "      <td>2.972999</td>\n",
              "      <td>0.209567</td>\n",
              "      <td>1.001753</td>\n",
              "    </tr>\n",
              "  </tbody>\n",
              "</table>\n",
              "</div>"
            ],
            "text/plain": [
              "    Principal Componente 1  Principal Componente 2  Principal Componente 3  \\\n",
              "0                -1.447845                0.471363               -0.159853   \n",
              "1                 3.402017                0.118370                1.780920   \n",
              "2                -0.689171               -0.512065                0.570482   \n",
              "3                 1.287381               -0.849229               -0.998099   \n",
              "4                -0.587241               -0.283802               -0.172655   \n",
              "5                -0.899572               -0.650256                0.921369   \n",
              "6                -1.614811               -1.564026                1.095757   \n",
              "7                 1.966442               -1.816615               -0.546387   \n",
              "8                -2.969268               -0.000563                0.025086   \n",
              "9                -1.141226                0.838010               -1.915515   \n",
              "10                1.999465               -1.758490               -0.669815   \n",
              "11                0.974278               -3.156465               -0.234716   \n",
              "12               -0.770159               -0.384879               -0.276062   \n",
              "13                2.268482               -1.225120                0.226713   \n",
              "14               -1.196009               -1.207820               -0.494299   \n",
              "15               -2.097824               -0.675366               -0.143652   \n",
              "16               -1.299692               -1.373102                0.154886   \n",
              "17               -0.747342                1.311532               -1.055212   \n",
              "18               -1.786084               -0.152371               -1.172293   \n",
              "19               -1.031596               -0.836775                1.547883   \n",
              "20                0.287132                0.980506               -0.822421   \n",
              "21                2.549060               -0.808576               -1.496667   \n",
              "22                2.026528               -1.721639               -0.899666   \n",
              "23                3.474985                0.165375                1.888847   \n",
              "24               -2.710235                0.424266                1.195770   \n",
              "25               -3.091595               -0.198376                0.442202   \n",
              "26               -3.252956               -0.621308                1.541324   \n",
              "27               -1.536819               -1.480391                0.188090   \n",
              "28               -3.035787                1.292992                0.277758   \n",
              "29               -2.670903                2.030140               -0.174006   \n",
              "30               -1.480976                0.354874                0.339834   \n",
              "31                2.972838                1.118920                0.053347   \n",
              "32               -2.275125               -0.790390               -0.418523   \n",
              "33               -0.206587                3.797143               -0.958292   \n",
              "34                0.800504               -3.456657                1.604940   \n",
              "35                1.580601               -2.396182                1.402200   \n",
              "36               -3.484700                0.758919               -1.055426   \n",
              "37               -2.835734                0.243305               -0.387518   \n",
              "38                0.190379                2.486382                1.843781   \n",
              "39                0.168547                0.933662               -1.278683   \n",
              "40                1.441499                4.350562                1.687170   \n",
              "41                1.335866                4.279984                0.831719   \n",
              "42                1.827755               -2.189788               -0.203238   \n",
              "43               -3.418918               -0.911331                2.972999   \n",
              "\n",
              "    Principal Componente 4  Principal Componente 5  \n",
              "0                 0.636695               -0.606605  \n",
              "1                 0.013785               -0.496805  \n",
              "2                -0.487418               -0.372890  \n",
              "3                 1.682068               -0.239907  \n",
              "4                -0.703311               -0.774602  \n",
              "5                 0.073295               -0.837364  \n",
              "6                 0.916541                0.285117  \n",
              "7                 0.293329                0.250735  \n",
              "8                 1.509065                0.291029  \n",
              "9                 0.273710                0.353846  \n",
              "10               -0.395943               -1.352401  \n",
              "11                0.718689                1.815140  \n",
              "12                0.291321               -0.468804  \n",
              "13                1.222218               -1.301244  \n",
              "14               -0.150152                0.742144  \n",
              "15               -0.457730               -0.718812  \n",
              "16               -0.436605               -0.117388  \n",
              "17               -0.356475                0.123959  \n",
              "18               -0.066734               -0.335990  \n",
              "19                0.778124                0.781303  \n",
              "20                0.192993               -0.346778  \n",
              "21                0.774846                0.388158  \n",
              "22               -0.301431               -1.328720  \n",
              "23               -0.099338                0.088085  \n",
              "24                1.291093                1.177202  \n",
              "25               -0.089136               -1.349410  \n",
              "26                0.041749                0.099202  \n",
              "27                0.614173                0.215463  \n",
              "28               -0.794181               -0.307494  \n",
              "29               -0.262925                0.851950  \n",
              "30                1.163267                0.892321  \n",
              "31               -1.298771                0.340180  \n",
              "32               -0.355788                0.781870  \n",
              "33                0.051735                0.987734  \n",
              "34                0.295527                0.181699  \n",
              "35                0.044021               -0.085091  \n",
              "36               -0.293922                0.221322  \n",
              "37                1.676481                0.068865  \n",
              "38               -0.443413               -0.134495  \n",
              "39                0.149055                0.863205  \n",
              "40                0.263425                0.587477  \n",
              "41                0.170557               -0.568539  \n",
              "42               -0.481208               -0.186014  \n",
              "43                0.209567                1.001753  "
            ]
          },
          "execution_count": 30,
          "metadata": {},
          "output_type": "execute_result"
        }
      ],
      "source": [
        "teste_df"
      ]
    }
  ],
  "metadata": {
    "colab": {
      "name": "IA.ipynb",
      "provenance": []
    },
    "kernelspec": {
      "display_name": "Python 3.8.10 64-bit",
      "language": "python",
      "name": "python3"
    },
    "language_info": {
      "codemirror_mode": {
        "name": "ipython",
        "version": 3
      },
      "file_extension": ".py",
      "mimetype": "text/x-python",
      "name": "python",
      "nbconvert_exporter": "python",
      "pygments_lexer": "ipython3",
      "version": "3.8.10"
    },
    "vscode": {
      "interpreter": {
        "hash": "916dbcbb3f70747c44a77c7bcd40155683ae19c65e1c03b4aa3499c5328201f1"
      }
    }
  },
  "nbformat": 4,
  "nbformat_minor": 0
}
